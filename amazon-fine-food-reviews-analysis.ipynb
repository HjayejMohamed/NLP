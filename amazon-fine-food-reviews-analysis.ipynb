{
 "cells": [
  {
   "cell_type": "code",
   "execution_count": 1,
   "id": "38296316",
   "metadata": {
    "execution": {
     "iopub.execute_input": "2022-09-25T17:48:12.227933Z",
     "iopub.status.busy": "2022-09-25T17:48:12.226780Z",
     "iopub.status.idle": "2022-09-25T17:48:21.701722Z",
     "shell.execute_reply": "2022-09-25T17:48:21.700787Z"
    },
    "papermill": {
     "duration": 9.487907,
     "end_time": "2022-09-25T17:48:21.704166",
     "exception": false,
     "start_time": "2022-09-25T17:48:12.216259",
     "status": "completed"
    },
    "tags": []
   },
   "outputs": [],
   "source": [
    "import pandas as pd\n",
    "import seaborn as sns\n",
    "import matplotlib.pyplot as plt\n",
    "import numpy as np\n",
    "from transformers import pipeline,AutoTokenizer,TFAutoModelForSequenceClassification\n",
    "from scipy.special import softmax"
   ]
  },
  {
   "cell_type": "code",
   "execution_count": 2,
   "id": "f1b1528e",
   "metadata": {
    "execution": {
     "iopub.execute_input": "2022-09-25T17:48:21.722231Z",
     "iopub.status.busy": "2022-09-25T17:48:21.721226Z",
     "iopub.status.idle": "2022-09-25T17:48:29.302917Z",
     "shell.execute_reply": "2022-09-25T17:48:29.302050Z"
    },
    "papermill": {
     "duration": 7.592662,
     "end_time": "2022-09-25T17:48:29.304975",
     "exception": false,
     "start_time": "2022-09-25T17:48:21.712313",
     "status": "completed"
    },
    "tags": []
   },
   "outputs": [
    {
     "data": {
      "text/html": [
       "<div>\n",
       "<style scoped>\n",
       "    .dataframe tbody tr th:only-of-type {\n",
       "        vertical-align: middle;\n",
       "    }\n",
       "\n",
       "    .dataframe tbody tr th {\n",
       "        vertical-align: top;\n",
       "    }\n",
       "\n",
       "    .dataframe thead th {\n",
       "        text-align: right;\n",
       "    }\n",
       "</style>\n",
       "<table border=\"1\" class=\"dataframe\">\n",
       "  <thead>\n",
       "    <tr style=\"text-align: right;\">\n",
       "      <th></th>\n",
       "      <th>Id</th>\n",
       "      <th>ProductId</th>\n",
       "      <th>UserId</th>\n",
       "      <th>ProfileName</th>\n",
       "      <th>HelpfulnessNumerator</th>\n",
       "      <th>HelpfulnessDenominator</th>\n",
       "      <th>Score</th>\n",
       "      <th>Time</th>\n",
       "      <th>Summary</th>\n",
       "      <th>Text</th>\n",
       "    </tr>\n",
       "  </thead>\n",
       "  <tbody>\n",
       "    <tr>\n",
       "      <th>0</th>\n",
       "      <td>1</td>\n",
       "      <td>B001E4KFG0</td>\n",
       "      <td>A3SGXH7AUHU8GW</td>\n",
       "      <td>delmartian</td>\n",
       "      <td>1</td>\n",
       "      <td>1</td>\n",
       "      <td>5</td>\n",
       "      <td>1303862400</td>\n",
       "      <td>Good Quality Dog Food</td>\n",
       "      <td>I have bought several of the Vitality canned d...</td>\n",
       "    </tr>\n",
       "    <tr>\n",
       "      <th>1</th>\n",
       "      <td>2</td>\n",
       "      <td>B00813GRG4</td>\n",
       "      <td>A1D87F6ZCVE5NK</td>\n",
       "      <td>dll pa</td>\n",
       "      <td>0</td>\n",
       "      <td>0</td>\n",
       "      <td>1</td>\n",
       "      <td>1346976000</td>\n",
       "      <td>Not as Advertised</td>\n",
       "      <td>Product arrived labeled as Jumbo Salted Peanut...</td>\n",
       "    </tr>\n",
       "    <tr>\n",
       "      <th>2</th>\n",
       "      <td>3</td>\n",
       "      <td>B000LQOCH0</td>\n",
       "      <td>ABXLMWJIXXAIN</td>\n",
       "      <td>Natalia Corres \"Natalia Corres\"</td>\n",
       "      <td>1</td>\n",
       "      <td>1</td>\n",
       "      <td>4</td>\n",
       "      <td>1219017600</td>\n",
       "      <td>\"Delight\" says it all</td>\n",
       "      <td>This is a confection that has been around a fe...</td>\n",
       "    </tr>\n",
       "    <tr>\n",
       "      <th>3</th>\n",
       "      <td>4</td>\n",
       "      <td>B000UA0QIQ</td>\n",
       "      <td>A395BORC6FGVXV</td>\n",
       "      <td>Karl</td>\n",
       "      <td>3</td>\n",
       "      <td>3</td>\n",
       "      <td>2</td>\n",
       "      <td>1307923200</td>\n",
       "      <td>Cough Medicine</td>\n",
       "      <td>If you are looking for the secret ingredient i...</td>\n",
       "    </tr>\n",
       "    <tr>\n",
       "      <th>4</th>\n",
       "      <td>5</td>\n",
       "      <td>B006K2ZZ7K</td>\n",
       "      <td>A1UQRSCLF8GW1T</td>\n",
       "      <td>Michael D. Bigham \"M. Wassir\"</td>\n",
       "      <td>0</td>\n",
       "      <td>0</td>\n",
       "      <td>5</td>\n",
       "      <td>1350777600</td>\n",
       "      <td>Great taffy</td>\n",
       "      <td>Great taffy at a great price.  There was a wid...</td>\n",
       "    </tr>\n",
       "  </tbody>\n",
       "</table>\n",
       "</div>"
      ],
      "text/plain": [
       "   Id   ProductId          UserId                      ProfileName  \\\n",
       "0   1  B001E4KFG0  A3SGXH7AUHU8GW                       delmartian   \n",
       "1   2  B00813GRG4  A1D87F6ZCVE5NK                           dll pa   \n",
       "2   3  B000LQOCH0   ABXLMWJIXXAIN  Natalia Corres \"Natalia Corres\"   \n",
       "3   4  B000UA0QIQ  A395BORC6FGVXV                             Karl   \n",
       "4   5  B006K2ZZ7K  A1UQRSCLF8GW1T    Michael D. Bigham \"M. Wassir\"   \n",
       "\n",
       "   HelpfulnessNumerator  HelpfulnessDenominator  Score        Time  \\\n",
       "0                     1                       1      5  1303862400   \n",
       "1                     0                       0      1  1346976000   \n",
       "2                     1                       1      4  1219017600   \n",
       "3                     3                       3      2  1307923200   \n",
       "4                     0                       0      5  1350777600   \n",
       "\n",
       "                 Summary                                               Text  \n",
       "0  Good Quality Dog Food  I have bought several of the Vitality canned d...  \n",
       "1      Not as Advertised  Product arrived labeled as Jumbo Salted Peanut...  \n",
       "2  \"Delight\" says it all  This is a confection that has been around a fe...  \n",
       "3         Cough Medicine  If you are looking for the secret ingredient i...  \n",
       "4            Great taffy  Great taffy at a great price.  There was a wid...  "
      ]
     },
     "execution_count": 2,
     "metadata": {},
     "output_type": "execute_result"
    }
   ],
   "source": [
    "df=pd.read_csv('../input/amazon-fine-food-reviews/Reviews.csv')\n",
    "df.head()"
   ]
  },
  {
   "cell_type": "code",
   "execution_count": 3,
   "id": "9fac36ba",
   "metadata": {
    "execution": {
     "iopub.execute_input": "2022-09-25T17:48:29.322156Z",
     "iopub.status.busy": "2022-09-25T17:48:29.321863Z",
     "iopub.status.idle": "2022-09-25T17:48:29.329628Z",
     "shell.execute_reply": "2022-09-25T17:48:29.328441Z"
    },
    "papermill": {
     "duration": 0.018481,
     "end_time": "2022-09-25T17:48:29.331676",
     "exception": false,
     "start_time": "2022-09-25T17:48:29.313195",
     "status": "completed"
    },
    "tags": []
   },
   "outputs": [
    {
     "data": {
      "text/plain": [
       "Index(['Id', 'ProductId', 'UserId', 'ProfileName', 'HelpfulnessNumerator',\n",
       "       'HelpfulnessDenominator', 'Score', 'Time', 'Summary', 'Text'],\n",
       "      dtype='object')"
      ]
     },
     "execution_count": 3,
     "metadata": {},
     "output_type": "execute_result"
    }
   ],
   "source": [
    "df.columns"
   ]
  },
  {
   "cell_type": "code",
   "execution_count": 4,
   "id": "2f09506e",
   "metadata": {
    "execution": {
     "iopub.execute_input": "2022-09-25T17:48:29.350100Z",
     "iopub.status.busy": "2022-09-25T17:48:29.349823Z",
     "iopub.status.idle": "2022-09-25T17:48:29.356622Z",
     "shell.execute_reply": "2022-09-25T17:48:29.355665Z"
    },
    "papermill": {
     "duration": 0.017814,
     "end_time": "2022-09-25T17:48:29.358733",
     "exception": false,
     "start_time": "2022-09-25T17:48:29.340919",
     "status": "completed"
    },
    "tags": []
   },
   "outputs": [
    {
     "data": {
      "text/plain": [
       "(568454, 10)"
      ]
     },
     "execution_count": 4,
     "metadata": {},
     "output_type": "execute_result"
    }
   ],
   "source": [
    "df.shape"
   ]
  },
  {
   "cell_type": "code",
   "execution_count": 5,
   "id": "5d3de047",
   "metadata": {
    "execution": {
     "iopub.execute_input": "2022-09-25T17:48:29.375593Z",
     "iopub.status.busy": "2022-09-25T17:48:29.375306Z",
     "iopub.status.idle": "2022-09-25T17:48:29.528100Z",
     "shell.execute_reply": "2022-09-25T17:48:29.527049Z"
    },
    "papermill": {
     "duration": 0.16362,
     "end_time": "2022-09-25T17:48:29.530326",
     "exception": false,
     "start_time": "2022-09-25T17:48:29.366706",
     "status": "completed"
    },
    "tags": []
   },
   "outputs": [
    {
     "data": {
      "text/plain": [
       "Id                         0\n",
       "ProductId                  0\n",
       "UserId                     0\n",
       "ProfileName               16\n",
       "HelpfulnessNumerator       0\n",
       "HelpfulnessDenominator     0\n",
       "Score                      0\n",
       "Time                       0\n",
       "Summary                   27\n",
       "Text                       0\n",
       "dtype: int64"
      ]
     },
     "execution_count": 5,
     "metadata": {},
     "output_type": "execute_result"
    }
   ],
   "source": [
    "df.isna().sum()"
   ]
  },
  {
   "cell_type": "code",
   "execution_count": 6,
   "id": "edd245e4",
   "metadata": {
    "execution": {
     "iopub.execute_input": "2022-09-25T17:48:29.547958Z",
     "iopub.status.busy": "2022-09-25T17:48:29.547651Z",
     "iopub.status.idle": "2022-09-25T17:48:29.783123Z",
     "shell.execute_reply": "2022-09-25T17:48:29.782156Z"
    },
    "papermill": {
     "duration": 0.246943,
     "end_time": "2022-09-25T17:48:29.785507",
     "exception": false,
     "start_time": "2022-09-25T17:48:29.538564",
     "status": "completed"
    },
    "tags": []
   },
   "outputs": [],
   "source": [
    "df.dropna(inplace=True,axis=0)"
   ]
  },
  {
   "cell_type": "code",
   "execution_count": 7,
   "id": "8e6f02cc",
   "metadata": {
    "execution": {
     "iopub.execute_input": "2022-09-25T17:48:29.803435Z",
     "iopub.status.busy": "2022-09-25T17:48:29.803119Z",
     "iopub.status.idle": "2022-09-25T17:48:29.956091Z",
     "shell.execute_reply": "2022-09-25T17:48:29.955036Z"
    },
    "papermill": {
     "duration": 0.164521,
     "end_time": "2022-09-25T17:48:29.958358",
     "exception": false,
     "start_time": "2022-09-25T17:48:29.793837",
     "status": "completed"
    },
    "tags": []
   },
   "outputs": [
    {
     "data": {
      "text/plain": [
       "Id                        0\n",
       "ProductId                 0\n",
       "UserId                    0\n",
       "ProfileName               0\n",
       "HelpfulnessNumerator      0\n",
       "HelpfulnessDenominator    0\n",
       "Score                     0\n",
       "Time                      0\n",
       "Summary                   0\n",
       "Text                      0\n",
       "dtype: int64"
      ]
     },
     "execution_count": 7,
     "metadata": {},
     "output_type": "execute_result"
    }
   ],
   "source": [
    "df.isna().sum()"
   ]
  },
  {
   "cell_type": "code",
   "execution_count": 8,
   "id": "7e8f2358",
   "metadata": {
    "execution": {
     "iopub.execute_input": "2022-09-25T17:48:29.976103Z",
     "iopub.status.busy": "2022-09-25T17:48:29.975803Z",
     "iopub.status.idle": "2022-09-25T17:48:30.279500Z",
     "shell.execute_reply": "2022-09-25T17:48:30.278590Z"
    },
    "papermill": {
     "duration": 0.314896,
     "end_time": "2022-09-25T17:48:30.281519",
     "exception": false,
     "start_time": "2022-09-25T17:48:29.966623",
     "status": "completed"
    },
    "tags": []
   },
   "outputs": [
    {
     "name": "stderr",
     "output_type": "stream",
     "text": [
      "/opt/conda/lib/python3.7/site-packages/seaborn/_decorators.py:43: FutureWarning: Pass the following variable as a keyword arg: x. From version 0.12, the only valid positional argument will be `data`, and passing other arguments without an explicit keyword will result in an error or misinterpretation.\n",
      "  FutureWarning\n"
     ]
    },
    {
     "data": {
      "text/plain": [
       "<AxesSubplot:xlabel='Score', ylabel='count'>"
      ]
     },
     "execution_count": 8,
     "metadata": {},
     "output_type": "execute_result"
    },
    {
     "data": {
      "image/png": "[encoded data removed]",
      "text/plain": [
       "<Figure size 432x288 with 1 Axes>"
      ]
     },
     "metadata": {
      "needs_background": "light"
     },
     "output_type": "display_data"
    }
   ],
   "source": [
    "sns.countplot(df.Score)"
   ]
  },
  {
   "cell_type": "code",
   "execution_count": 9,
   "id": "3b43e454",
   "metadata": {
    "execution": {
     "iopub.execute_input": "2022-09-25T17:48:30.310031Z",
     "iopub.status.busy": "2022-09-25T17:48:30.309005Z",
     "iopub.status.idle": "2022-09-25T17:48:31.903767Z",
     "shell.execute_reply": "2022-09-25T17:48:31.902856Z"
    },
    "papermill": {
     "duration": 1.615896,
     "end_time": "2022-09-25T17:48:31.905971",
     "exception": false,
     "start_time": "2022-09-25T17:48:30.290075",
     "status": "completed"
    },
    "tags": []
   },
   "outputs": [
    {
     "name": "stdout",
     "output_type": "stream",
     "text": [
      "users with over 1 reviews  : 256047\n",
      "users with over 5 reviews  : 18175\n",
      "users with over 10 reviews : 6358\n",
      "users with over 20 reviews : 1702\n",
      "users with over 30 reviews : 703\n",
      "users with over 50 reviews : 260\n"
     ]
    }
   ],
   "source": [
    "print('users with over 1 reviews  :',(df['UserId'].value_counts() >  0).sum())\n",
    "print('users with over 5 reviews  :',(df['UserId'].value_counts() >  5).sum())\n",
    "print('users with over 10 reviews :',(df['UserId'].value_counts() > 10).sum())\n",
    "print('users with over 20 reviews :',(df['UserId'].value_counts() > 20).sum())\n",
    "print('users with over 30 reviews :',(df['UserId'].value_counts() > 30).sum())\n",
    "print('users with over 50 reviews :',(df['UserId'].value_counts() > 50).sum())"
   ]
  },
  {
   "cell_type": "code",
   "execution_count": 10,
   "id": "1622762f",
   "metadata": {
    "execution": {
     "iopub.execute_input": "2022-09-25T17:48:31.925342Z",
     "iopub.status.busy": "2022-09-25T17:48:31.925016Z",
     "iopub.status.idle": "2022-09-25T17:48:32.084428Z",
     "shell.execute_reply": "2022-09-25T17:48:32.083512Z"
    },
    "papermill": {
     "duration": 0.171698,
     "end_time": "2022-09-25T17:48:32.086769",
     "exception": false,
     "start_time": "2022-09-25T17:48:31.915071",
     "status": "completed"
    },
    "tags": []
   },
   "outputs": [],
   "source": [
    "one_score_df=df[df['Score']==1].sample(100)\n",
    "two_score_df=df[df['Score']==2].sample(100)\n",
    "three_score_df=df[df['Score']==3].sample(100)\n",
    "four_score_df=df[df['Score']==4].sample(100)\n",
    "five_score_df=df[df['Score']==5].sample(100)\n",
    "df1=pd.concat([one_score_df,two_score_df,three_score_df,four_score_df,five_score_df])"
   ]
  },
  {
   "cell_type": "code",
   "execution_count": 11,
   "id": "01bc00a4",
   "metadata": {
    "execution": {
     "iopub.execute_input": "2022-09-25T17:48:32.106828Z",
     "iopub.status.busy": "2022-09-25T17:48:32.105973Z",
     "iopub.status.idle": "2022-09-25T17:48:32.112446Z",
     "shell.execute_reply": "2022-09-25T17:48:32.111567Z"
    },
    "papermill": {
     "duration": 0.018503,
     "end_time": "2022-09-25T17:48:32.114478",
     "exception": false,
     "start_time": "2022-09-25T17:48:32.095975",
     "status": "completed"
    },
    "tags": []
   },
   "outputs": [
    {
     "data": {
      "text/plain": [
       "(500, 10)"
      ]
     },
     "execution_count": 11,
     "metadata": {},
     "output_type": "execute_result"
    }
   ],
   "source": [
    "df1.shape"
   ]
  },
  {
   "cell_type": "code",
   "execution_count": 12,
   "id": "d67ab44e",
   "metadata": {
    "execution": {
     "iopub.execute_input": "2022-09-25T17:48:32.134001Z",
     "iopub.status.busy": "2022-09-25T17:48:32.133660Z",
     "iopub.status.idle": "2022-09-25T17:48:32.321396Z",
     "shell.execute_reply": "2022-09-25T17:48:32.320373Z"
    },
    "papermill": {
     "duration": 0.200285,
     "end_time": "2022-09-25T17:48:32.323590",
     "exception": false,
     "start_time": "2022-09-25T17:48:32.123305",
     "status": "completed"
    },
    "tags": []
   },
   "outputs": [
    {
     "name": "stderr",
     "output_type": "stream",
     "text": [
      "/opt/conda/lib/python3.7/site-packages/seaborn/_decorators.py:43: FutureWarning: Pass the following variable as a keyword arg: x. From version 0.12, the only valid positional argument will be `data`, and passing other arguments without an explicit keyword will result in an error or misinterpretation.\n",
      "  FutureWarning\n"
     ]
    },
    {
     "data": {
      "text/plain": [
       "<AxesSubplot:xlabel='Score', ylabel='count'>"
      ]
     },
     "execution_count": 12,
     "metadata": {},
     "output_type": "execute_result"
    },
    {
     "data": {
      "image/png": "[encoded data removed]",
      "text/plain": [
       "<Figure size 432x288 with 1 Axes>"
      ]
     },
     "metadata": {
      "needs_background": "light"
     },
     "output_type": "display_data"
    }
   ],
   "source": [
    "sns.countplot(df1.Score)"
   ]
  },
  {
   "cell_type": "code",
   "execution_count": 13,
   "id": "cf5ea81e",
   "metadata": {
    "execution": {
     "iopub.execute_input": "2022-09-25T17:48:32.344078Z",
     "iopub.status.busy": "2022-09-25T17:48:32.343272Z",
     "iopub.status.idle": "2022-09-25T17:48:32.350564Z",
     "shell.execute_reply": "2022-09-25T17:48:32.349557Z"
    },
    "papermill": {
     "duration": 0.019923,
     "end_time": "2022-09-25T17:48:32.353064",
     "exception": false,
     "start_time": "2022-09-25T17:48:32.333141",
     "status": "completed"
    },
    "tags": []
   },
   "outputs": [],
   "source": [
    "df1=df1[['Id', 'Score', 'Time', 'Summary', 'Text']]"
   ]
  },
  {
   "cell_type": "code",
   "execution_count": 14,
   "id": "452b901c",
   "metadata": {
    "execution": {
     "iopub.execute_input": "2022-09-25T17:48:32.373096Z",
     "iopub.status.busy": "2022-09-25T17:48:32.372297Z",
     "iopub.status.idle": "2022-09-25T17:48:32.383099Z",
     "shell.execute_reply": "2022-09-25T17:48:32.382501Z"
    },
    "papermill": {
     "duration": 0.022754,
     "end_time": "2022-09-25T17:48:32.384846",
     "exception": false,
     "start_time": "2022-09-25T17:48:32.362092",
     "status": "completed"
    },
    "tags": []
   },
   "outputs": [
    {
     "data": {
      "text/html": [
       "<div>\n",
       "<style scoped>\n",
       "    .dataframe tbody tr th:only-of-type {\n",
       "        vertical-align: middle;\n",
       "    }\n",
       "\n",
       "    .dataframe tbody tr th {\n",
       "        vertical-align: top;\n",
       "    }\n",
       "\n",
       "    .dataframe thead th {\n",
       "        text-align: right;\n",
       "    }\n",
       "</style>\n",
       "<table border=\"1\" class=\"dataframe\">\n",
       "  <thead>\n",
       "    <tr style=\"text-align: right;\">\n",
       "      <th></th>\n",
       "      <th>Id</th>\n",
       "      <th>Score</th>\n",
       "      <th>Time</th>\n",
       "      <th>Summary</th>\n",
       "      <th>Text</th>\n",
       "    </tr>\n",
       "  </thead>\n",
       "  <tbody>\n",
       "    <tr>\n",
       "      <th>283489</th>\n",
       "      <td>283490</td>\n",
       "      <td>1</td>\n",
       "      <td>1344816000</td>\n",
       "      <td>Dont buy</td>\n",
       "      <td>It came broken in pieces. The ribbon was dull ...</td>\n",
       "    </tr>\n",
       "    <tr>\n",
       "      <th>220132</th>\n",
       "      <td>220133</td>\n",
       "      <td>1</td>\n",
       "      <td>1322870400</td>\n",
       "      <td>EXTREMELY SMALL BOXES! VERY DISAPPOINTING</td>\n",
       "      <td>Just received these two boxes which I purchase...</td>\n",
       "    </tr>\n",
       "    <tr>\n",
       "      <th>164505</th>\n",
       "      <td>164506</td>\n",
       "      <td>1</td>\n",
       "      <td>1254268800</td>\n",
       "      <td>Coffee Chupa Chups</td>\n",
       "      <td>As this order of Coffee Chuppa Chups was cance...</td>\n",
       "    </tr>\n",
       "  </tbody>\n",
       "</table>\n",
       "</div>"
      ],
      "text/plain": [
       "            Id  Score        Time                                    Summary  \\\n",
       "283489  283490      1  1344816000                                   Dont buy   \n",
       "220132  220133      1  1322870400  EXTREMELY SMALL BOXES! VERY DISAPPOINTING   \n",
       "164505  164506      1  1254268800                         Coffee Chupa Chups   \n",
       "\n",
       "                                                     Text  \n",
       "283489  It came broken in pieces. The ribbon was dull ...  \n",
       "220132  Just received these two boxes which I purchase...  \n",
       "164505  As this order of Coffee Chuppa Chups was cance...  "
      ]
     },
     "execution_count": 14,
     "metadata": {},
     "output_type": "execute_result"
    }
   ],
   "source": [
    "df1.head(3)"
   ]
  },
  {
   "cell_type": "code",
   "execution_count": 15,
   "id": "27a40353",
   "metadata": {
    "execution": {
     "iopub.execute_input": "2022-09-25T17:48:32.404768Z",
     "iopub.status.busy": "2022-09-25T17:48:32.404266Z",
     "iopub.status.idle": "2022-09-25T17:48:32.417500Z",
     "shell.execute_reply": "2022-09-25T17:48:32.416249Z"
    },
    "papermill": {
     "duration": 0.025336,
     "end_time": "2022-09-25T17:48:32.419475",
     "exception": false,
     "start_time": "2022-09-25T17:48:32.394139",
     "status": "completed"
    },
    "tags": []
   },
   "outputs": [
    {
     "name": "stdout",
     "output_type": "stream",
     "text": [
      "<class 'pandas.core.frame.DataFrame'>\n",
      "Int64Index: 500 entries, 283489 to 526895\n",
      "Data columns (total 5 columns):\n",
      " #   Column   Non-Null Count  Dtype \n",
      "---  ------   --------------  ----- \n",
      " 0   Id       500 non-null    int64 \n",
      " 1   Score    500 non-null    int64 \n",
      " 2   Time     500 non-null    int64 \n",
      " 3   Summary  500 non-null    object\n",
      " 4   Text     500 non-null    object\n",
      "dtypes: int64(3), object(2)\n",
      "memory usage: 39.6+ KB\n"
     ]
    }
   ],
   "source": [
    "df1.info()"
   ]
  },
  {
   "cell_type": "markdown",
   "id": "bef1813e",
   "metadata": {
    "papermill": {
     "duration": 0.009279,
     "end_time": "2022-09-25T17:48:32.438333",
     "exception": false,
     "start_time": "2022-09-25T17:48:32.429054",
     "status": "completed"
    },
    "tags": []
   },
   "source": [
    "# BERT Pretrained Model:"
   ]
  },
  {
   "cell_type": "code",
   "execution_count": 16,
   "id": "86e52299",
   "metadata": {
    "execution": {
     "iopub.execute_input": "2022-09-25T17:48:32.458889Z",
     "iopub.status.busy": "2022-09-25T17:48:32.458105Z",
     "iopub.status.idle": "2022-09-25T17:49:37.636029Z",
     "shell.execute_reply": "2022-09-25T17:49:37.635076Z"
    },
    "papermill": {
     "duration": 65.190587,
     "end_time": "2022-09-25T17:49:37.638354",
     "exception": false,
     "start_time": "2022-09-25T17:48:32.447767",
     "status": "completed"
    },
    "tags": []
   },
   "outputs": [
    {
     "data": {
      "application/vnd.jupyter.widget-view+json": {
       "model_id": "f07fc54393d24d2bbcb418b0a0ecad00",
       "version_major": 2,
       "version_minor": 0
      },
      "text/plain": [
       "Downloading:   0%|          | 0.00/953 [00:00<?, ?B/s]"
      ]
     },
     "metadata": {},
     "output_type": "display_data"
    },
    {
     "name": "stderr",
     "output_type": "stream",
     "text": [
      "2022-09-25 17:48:34.521508: I tensorflow/stream_executor/cuda/cuda_gpu_executor.cc:937] successful NUMA node read from SysFS had negative value (-1), but there must be at least one NUMA node, so returning NUMA node zero\n",
      "2022-09-25 17:48:34.522804: I tensorflow/stream_executor/cuda/cuda_gpu_executor.cc:937] successful NUMA node read from SysFS had negative value (-1), but there must be at least one NUMA node, so returning NUMA node zero\n",
      "2022-09-25 17:48:34.523604: I tensorflow/stream_executor/cuda/cuda_gpu_executor.cc:937] successful NUMA node read from SysFS had negative value (-1), but there must be at least one NUMA node, so returning NUMA node zero\n",
      "2022-09-25 17:48:34.525649: I tensorflow/core/platform/cpu_feature_guard.cc:142] This TensorFlow binary is optimized with oneAPI Deep Neural Network Library (oneDNN) to use the following CPU instructions in performance-critical operations:  AVX2 AVX512F FMA\n",
      "To enable them in other operations, rebuild TensorFlow with the appropriate compiler flags.\n",
      "2022-09-25 17:48:34.525981: I tensorflow/stream_executor/cuda/cuda_gpu_executor.cc:937] successful NUMA node read from SysFS had negative value (-1), but there must be at least one NUMA node, so returning NUMA node zero\n",
      "2022-09-25 17:48:34.526826: I tensorflow/stream_executor/cuda/cuda_gpu_executor.cc:937] successful NUMA node read from SysFS had negative value (-1), but there must be at least one NUMA node, so returning NUMA node zero\n",
      "2022-09-25 17:48:34.527591: I tensorflow/stream_executor/cuda/cuda_gpu_executor.cc:937] successful NUMA node read from SysFS had negative value (-1), but there must be at least one NUMA node, so returning NUMA node zero\n",
      "2022-09-25 17:48:39.287946: I tensorflow/stream_executor/cuda/cuda_gpu_executor.cc:937] successful NUMA node read from SysFS had negative value (-1), but there must be at least one NUMA node, so returning NUMA node zero\n",
      "2022-09-25 17:48:39.288877: I tensorflow/stream_executor/cuda/cuda_gpu_executor.cc:937] successful NUMA node read from SysFS had negative value (-1), but there must be at least one NUMA node, so returning NUMA node zero\n",
      "2022-09-25 17:48:39.289691: I tensorflow/stream_executor/cuda/cuda_gpu_executor.cc:937] successful NUMA node read from SysFS had negative value (-1), but there must be at least one NUMA node, so returning NUMA node zero\n",
      "2022-09-25 17:48:39.290295: I tensorflow/core/common_runtime/gpu/gpu_device.cc:1510] Created device /job:localhost/replica:0/task:0/device:GPU:0 with 15043 MB memory:  -> device: 0, name: Tesla P100-PCIE-16GB, pci bus id: 0000:00:04.0, compute capability: 6.0\n"
     ]
    },
    {
     "data": {
      "application/vnd.jupyter.widget-view+json": {
       "model_id": "11f145ab7e1d4bf99284e9be162d6d08",
       "version_major": 2,
       "version_minor": 0
      },
      "text/plain": [
       "Downloading:   0%|          | 0.00/638M [00:00<?, ?B/s]"
      ]
     },
     "metadata": {},
     "output_type": "display_data"
    },
    {
     "name": "stderr",
     "output_type": "stream",
     "text": [
      "All PyTorch model weights were used when initializing TFBertForSequenceClassification.\n",
      "\n",
      "All the weights of TFBertForSequenceClassification were initialized from the PyTorch model.\n",
      "If your task is similar to the task the model of the checkpoint was trained on, you can already use TFBertForSequenceClassification for predictions without further training.\n"
     ]
    },
    {
     "data": {
      "application/vnd.jupyter.widget-view+json": {
       "model_id": "004b7fc637484aa691371bc6dc02c3b4",
       "version_major": 2,
       "version_minor": 0
      },
      "text/plain": [
       "Downloading:   0%|          | 0.00/39.0 [00:00<?, ?B/s]"
      ]
     },
     "metadata": {},
     "output_type": "display_data"
    },
    {
     "data": {
      "application/vnd.jupyter.widget-view+json": {
       "model_id": "1d8f89efad934a5e8cb3a9b71742484d",
       "version_major": 2,
       "version_minor": 0
      },
      "text/plain": [
       "Downloading:   0%|          | 0.00/851k [00:00<?, ?B/s]"
      ]
     },
     "metadata": {},
     "output_type": "display_data"
    },
    {
     "data": {
      "application/vnd.jupyter.widget-view+json": {
       "model_id": "ed09ad9738714a00a9bf787a415f80da",
       "version_major": 2,
       "version_minor": 0
      },
      "text/plain": [
       "Downloading:   0%|          | 0.00/112 [00:00<?, ?B/s]"
      ]
     },
     "metadata": {},
     "output_type": "display_data"
    }
   ],
   "source": [
    "model_name = \"nlptown/bert-base-multilingual-uncased-sentiment\"\n",
    "model = TFAutoModelForSequenceClassification.from_pretrained(model_name, from_pt=True)\n",
    "tokenizer = AutoTokenizer.from_pretrained(model_name)\n",
    "classifier = pipeline('sentiment-analysis', model=model, tokenizer=tokenizer)"
   ]
  },
  {
   "cell_type": "code",
   "execution_count": 17,
   "id": "d7bfb1ee",
   "metadata": {
    "execution": {
     "iopub.execute_input": "2022-09-25T17:49:37.660757Z",
     "iopub.status.busy": "2022-09-25T17:49:37.660417Z",
     "iopub.status.idle": "2022-09-25T17:49:37.664467Z",
     "shell.execute_reply": "2022-09-25T17:49:37.663421Z"
    },
    "papermill": {
     "duration": 0.017872,
     "end_time": "2022-09-25T17:49:37.666967",
     "exception": false,
     "start_time": "2022-09-25T17:49:37.649095",
     "status": "completed"
    },
    "tags": []
   },
   "outputs": [],
   "source": [
    "# MODEL=f\"cardiffnlp/twitter-roberta-base-sentiment\"\n",
    "# tokenizer=AutoTokenizer.from_pretrained(MODEL)\n",
    "# model=AutoModelForSequenceClassification.from_pretrained(MODEL)"
   ]
  },
  {
   "cell_type": "code",
   "execution_count": 18,
   "id": "5602e6b0",
   "metadata": {
    "execution": {
     "iopub.execute_input": "2022-09-25T17:49:37.689711Z",
     "iopub.status.busy": "2022-09-25T17:49:37.688136Z",
     "iopub.status.idle": "2022-09-25T17:49:37.694918Z",
     "shell.execute_reply": "2022-09-25T17:49:37.693984Z"
    },
    "papermill": {
     "duration": 0.01989,
     "end_time": "2022-09-25T17:49:37.696974",
     "exception": false,
     "start_time": "2022-09-25T17:49:37.677084",
     "status": "completed"
    },
    "tags": []
   },
   "outputs": [
    {
     "data": {
      "text/plain": [
       "'Dont buy'"
      ]
     },
     "execution_count": 18,
     "metadata": {},
     "output_type": "execute_result"
    }
   ],
   "source": [
    "example=df1['Summary'].values[0]\n",
    "example"
   ]
  },
  {
   "cell_type": "code",
   "execution_count": 19,
   "id": "e9784de3",
   "metadata": {
    "execution": {
     "iopub.execute_input": "2022-09-25T17:49:37.719117Z",
     "iopub.status.busy": "2022-09-25T17:49:37.718274Z",
     "iopub.status.idle": "2022-09-25T17:49:37.731770Z",
     "shell.execute_reply": "2022-09-25T17:49:37.730876Z"
    },
    "papermill": {
     "duration": 0.026652,
     "end_time": "2022-09-25T17:49:37.733633",
     "exception": false,
     "start_time": "2022-09-25T17:49:37.706981",
     "status": "completed"
    },
    "tags": []
   },
   "outputs": [
    {
     "data": {
      "text/plain": [
       "{'input_ids': [101, 11930, 35172, 102], 'token_type_ids': [0, 0, 0, 0], 'attention_mask': [1, 1, 1, 1]}"
      ]
     },
     "execution_count": 19,
     "metadata": {},
     "output_type": "execute_result"
    }
   ],
   "source": [
    "tokenizer(example)"
   ]
  },
  {
   "cell_type": "code",
   "execution_count": 20,
   "id": "b60f5f26",
   "metadata": {
    "execution": {
     "iopub.execute_input": "2022-09-25T17:49:37.756895Z",
     "iopub.status.busy": "2022-09-25T17:49:37.756041Z",
     "iopub.status.idle": "2022-09-25T17:49:38.134737Z",
     "shell.execute_reply": "2022-09-25T17:49:38.133866Z"
    },
    "papermill": {
     "duration": 0.392583,
     "end_time": "2022-09-25T17:49:38.136858",
     "exception": false,
     "start_time": "2022-09-25T17:49:37.744275",
     "status": "completed"
    },
    "tags": []
   },
   "outputs": [
    {
     "data": {
      "text/plain": [
       "{'label': '5 stars', 'score': 0.31933990120887756}"
      ]
     },
     "execution_count": 20,
     "metadata": {},
     "output_type": "execute_result"
    }
   ],
   "source": [
    "classifier(example)[0]"
   ]
  },
  {
   "cell_type": "code",
   "execution_count": 21,
   "id": "aedad706",
   "metadata": {
    "execution": {
     "iopub.execute_input": "2022-09-25T17:49:38.160591Z",
     "iopub.status.busy": "2022-09-25T17:49:38.158929Z",
     "iopub.status.idle": "2022-09-25T17:49:38.164895Z",
     "shell.execute_reply": "2022-09-25T17:49:38.163885Z"
    },
    "papermill": {
     "duration": 0.020231,
     "end_time": "2022-09-25T17:49:38.167911",
     "exception": false,
     "start_time": "2022-09-25T17:49:38.147680",
     "status": "completed"
    },
    "tags": []
   },
   "outputs": [
    {
     "name": "stdout",
     "output_type": "stream",
     "text": [
      "1\n"
     ]
    }
   ],
   "source": [
    "print(df1['Score'].values[0])"
   ]
  },
  {
   "cell_type": "code",
   "execution_count": 22,
   "id": "565c37fe",
   "metadata": {
    "execution": {
     "iopub.execute_input": "2022-09-25T17:49:38.189995Z",
     "iopub.status.busy": "2022-09-25T17:49:38.189668Z",
     "iopub.status.idle": "2022-09-25T17:51:54.517221Z",
     "shell.execute_reply": "2022-09-25T17:51:54.516204Z"
    },
    "papermill": {
     "duration": 136.341921,
     "end_time": "2022-09-25T17:51:54.520104",
     "exception": false,
     "start_time": "2022-09-25T17:49:38.178183",
     "status": "completed"
    },
    "tags": []
   },
   "outputs": [],
   "source": [
    "dict={}\n",
    "for Id,Summary in df1[['Id','Summary']].values:\n",
    "    res=classifier(Summary)\n",
    "    dict[Id]=res[0]"
   ]
  },
  {
   "cell_type": "code",
   "execution_count": 23,
   "id": "b94417fc",
   "metadata": {
    "execution": {
     "iopub.execute_input": "2022-09-25T17:51:54.542947Z",
     "iopub.status.busy": "2022-09-25T17:51:54.542626Z",
     "iopub.status.idle": "2022-09-25T17:51:54.563076Z",
     "shell.execute_reply": "2022-09-25T17:51:54.561981Z"
    },
    "papermill": {
     "duration": 0.034377,
     "end_time": "2022-09-25T17:51:54.565640",
     "exception": false,
     "start_time": "2022-09-25T17:51:54.531263",
     "status": "completed"
    },
    "tags": []
   },
   "outputs": [],
   "source": [
    "pred_reviews=pd.DataFrame(dict).T"
   ]
  },
  {
   "cell_type": "code",
   "execution_count": 24,
   "id": "cc0e4b29",
   "metadata": {
    "execution": {
     "iopub.execute_input": "2022-09-25T17:51:54.588150Z",
     "iopub.status.busy": "2022-09-25T17:51:54.587840Z",
     "iopub.status.idle": "2022-09-25T17:51:54.598123Z",
     "shell.execute_reply": "2022-09-25T17:51:54.597215Z"
    },
    "papermill": {
     "duration": 0.023578,
     "end_time": "2022-09-25T17:51:54.600119",
     "exception": false,
     "start_time": "2022-09-25T17:51:54.576541",
     "status": "completed"
    },
    "tags": []
   },
   "outputs": [
    {
     "data": {
      "text/html": [
       "<div>\n",
       "<style scoped>\n",
       "    .dataframe tbody tr th:only-of-type {\n",
       "        vertical-align: middle;\n",
       "    }\n",
       "\n",
       "    .dataframe tbody tr th {\n",
       "        vertical-align: top;\n",
       "    }\n",
       "\n",
       "    .dataframe thead th {\n",
       "        text-align: right;\n",
       "    }\n",
       "</style>\n",
       "<table border=\"1\" class=\"dataframe\">\n",
       "  <thead>\n",
       "    <tr style=\"text-align: right;\">\n",
       "      <th></th>\n",
       "      <th>label</th>\n",
       "      <th>score</th>\n",
       "    </tr>\n",
       "  </thead>\n",
       "  <tbody>\n",
       "    <tr>\n",
       "      <th>283490</th>\n",
       "      <td>5 stars</td>\n",
       "      <td>0.31934</td>\n",
       "    </tr>\n",
       "    <tr>\n",
       "      <th>220133</th>\n",
       "      <td>1 star</td>\n",
       "      <td>0.560305</td>\n",
       "    </tr>\n",
       "    <tr>\n",
       "      <th>164506</th>\n",
       "      <td>4 stars</td>\n",
       "      <td>0.269262</td>\n",
       "    </tr>\n",
       "    <tr>\n",
       "      <th>208435</th>\n",
       "      <td>5 stars</td>\n",
       "      <td>0.359861</td>\n",
       "    </tr>\n",
       "    <tr>\n",
       "      <th>334152</th>\n",
       "      <td>1 star</td>\n",
       "      <td>0.663169</td>\n",
       "    </tr>\n",
       "  </tbody>\n",
       "</table>\n",
       "</div>"
      ],
      "text/plain": [
       "          label     score\n",
       "283490  5 stars   0.31934\n",
       "220133   1 star  0.560305\n",
       "164506  4 stars  0.269262\n",
       "208435  5 stars  0.359861\n",
       "334152   1 star  0.663169"
      ]
     },
     "execution_count": 24,
     "metadata": {},
     "output_type": "execute_result"
    }
   ],
   "source": [
    "pred_reviews.head()"
   ]
  },
  {
   "cell_type": "code",
   "execution_count": 25,
   "id": "512ee1e4",
   "metadata": {
    "execution": {
     "iopub.execute_input": "2022-09-25T17:51:54.622135Z",
     "iopub.status.busy": "2022-09-25T17:51:54.621833Z",
     "iopub.status.idle": "2022-09-25T17:51:54.629857Z",
     "shell.execute_reply": "2022-09-25T17:51:54.629004Z"
    },
    "papermill": {
     "duration": 0.021377,
     "end_time": "2022-09-25T17:51:54.631891",
     "exception": false,
     "start_time": "2022-09-25T17:51:54.610514",
     "status": "completed"
    },
    "tags": []
   },
   "outputs": [],
   "source": [
    "pred_reviews.to_csv('pred_reviews500.csv')"
   ]
  },
  {
   "cell_type": "code",
   "execution_count": 26,
   "id": "5f1975f0",
   "metadata": {
    "execution": {
     "iopub.execute_input": "2022-09-25T17:51:54.654253Z",
     "iopub.status.busy": "2022-09-25T17:51:54.653944Z",
     "iopub.status.idle": "2022-09-25T17:51:54.660174Z",
     "shell.execute_reply": "2022-09-25T17:51:54.659198Z"
    },
    "papermill": {
     "duration": 0.019742,
     "end_time": "2022-09-25T17:51:54.662200",
     "exception": false,
     "start_time": "2022-09-25T17:51:54.642458",
     "status": "completed"
    },
    "tags": []
   },
   "outputs": [],
   "source": [
    "pred_reviews = pred_reviews.reset_index().rename(columns={'index': 'Id'})"
   ]
  },
  {
   "cell_type": "code",
   "execution_count": 27,
   "id": "aea7f9af",
   "metadata": {
    "execution": {
     "iopub.execute_input": "2022-09-25T17:51:54.685307Z",
     "iopub.status.busy": "2022-09-25T17:51:54.684426Z",
     "iopub.status.idle": "2022-09-25T17:51:54.694451Z",
     "shell.execute_reply": "2022-09-25T17:51:54.693434Z"
    },
    "papermill": {
     "duration": 0.024092,
     "end_time": "2022-09-25T17:51:54.696952",
     "exception": false,
     "start_time": "2022-09-25T17:51:54.672860",
     "status": "completed"
    },
    "tags": []
   },
   "outputs": [
    {
     "data": {
      "text/html": [
       "<div>\n",
       "<style scoped>\n",
       "    .dataframe tbody tr th:only-of-type {\n",
       "        vertical-align: middle;\n",
       "    }\n",
       "\n",
       "    .dataframe tbody tr th {\n",
       "        vertical-align: top;\n",
       "    }\n",
       "\n",
       "    .dataframe thead th {\n",
       "        text-align: right;\n",
       "    }\n",
       "</style>\n",
       "<table border=\"1\" class=\"dataframe\">\n",
       "  <thead>\n",
       "    <tr style=\"text-align: right;\">\n",
       "      <th></th>\n",
       "      <th>Id</th>\n",
       "      <th>label</th>\n",
       "      <th>score</th>\n",
       "    </tr>\n",
       "  </thead>\n",
       "  <tbody>\n",
       "    <tr>\n",
       "      <th>0</th>\n",
       "      <td>283490</td>\n",
       "      <td>5 stars</td>\n",
       "      <td>0.31934</td>\n",
       "    </tr>\n",
       "    <tr>\n",
       "      <th>1</th>\n",
       "      <td>220133</td>\n",
       "      <td>1 star</td>\n",
       "      <td>0.560305</td>\n",
       "    </tr>\n",
       "    <tr>\n",
       "      <th>2</th>\n",
       "      <td>164506</td>\n",
       "      <td>4 stars</td>\n",
       "      <td>0.269262</td>\n",
       "    </tr>\n",
       "    <tr>\n",
       "      <th>3</th>\n",
       "      <td>208435</td>\n",
       "      <td>5 stars</td>\n",
       "      <td>0.359861</td>\n",
       "    </tr>\n",
       "    <tr>\n",
       "      <th>4</th>\n",
       "      <td>334152</td>\n",
       "      <td>1 star</td>\n",
       "      <td>0.663169</td>\n",
       "    </tr>\n",
       "  </tbody>\n",
       "</table>\n",
       "</div>"
      ],
      "text/plain": [
       "       Id    label     score\n",
       "0  283490  5 stars   0.31934\n",
       "1  220133   1 star  0.560305\n",
       "2  164506  4 stars  0.269262\n",
       "3  208435  5 stars  0.359861\n",
       "4  334152   1 star  0.663169"
      ]
     },
     "execution_count": 27,
     "metadata": {},
     "output_type": "execute_result"
    }
   ],
   "source": [
    "pred_reviews.head()"
   ]
  },
  {
   "cell_type": "code",
   "execution_count": 28,
   "id": "bb6fb325",
   "metadata": {
    "execution": {
     "iopub.execute_input": "2022-09-25T17:51:54.719502Z",
     "iopub.status.busy": "2022-09-25T17:51:54.719177Z",
     "iopub.status.idle": "2022-09-25T17:51:54.733387Z",
     "shell.execute_reply": "2022-09-25T17:51:54.732509Z"
    },
    "papermill": {
     "duration": 0.027868,
     "end_time": "2022-09-25T17:51:54.735416",
     "exception": false,
     "start_time": "2022-09-25T17:51:54.707548",
     "status": "completed"
    },
    "tags": []
   },
   "outputs": [],
   "source": [
    "df2 = pred_reviews.merge(df1, how='left')"
   ]
  },
  {
   "cell_type": "code",
   "execution_count": 29,
   "id": "9640e9a9",
   "metadata": {
    "execution": {
     "iopub.execute_input": "2022-09-25T17:51:54.758492Z",
     "iopub.status.busy": "2022-09-25T17:51:54.758168Z",
     "iopub.status.idle": "2022-09-25T17:51:54.770424Z",
     "shell.execute_reply": "2022-09-25T17:51:54.769535Z"
    },
    "papermill": {
     "duration": 0.026174,
     "end_time": "2022-09-25T17:51:54.772431",
     "exception": false,
     "start_time": "2022-09-25T17:51:54.746257",
     "status": "completed"
    },
    "tags": []
   },
   "outputs": [
    {
     "data": {
      "text/html": [
       "<div>\n",
       "<style scoped>\n",
       "    .dataframe tbody tr th:only-of-type {\n",
       "        vertical-align: middle;\n",
       "    }\n",
       "\n",
       "    .dataframe tbody tr th {\n",
       "        vertical-align: top;\n",
       "    }\n",
       "\n",
       "    .dataframe thead th {\n",
       "        text-align: right;\n",
       "    }\n",
       "</style>\n",
       "<table border=\"1\" class=\"dataframe\">\n",
       "  <thead>\n",
       "    <tr style=\"text-align: right;\">\n",
       "      <th></th>\n",
       "      <th>Id</th>\n",
       "      <th>label</th>\n",
       "      <th>score</th>\n",
       "      <th>Score</th>\n",
       "      <th>Time</th>\n",
       "      <th>Summary</th>\n",
       "      <th>Text</th>\n",
       "    </tr>\n",
       "  </thead>\n",
       "  <tbody>\n",
       "    <tr>\n",
       "      <th>0</th>\n",
       "      <td>283490</td>\n",
       "      <td>5 stars</td>\n",
       "      <td>0.31934</td>\n",
       "      <td>1</td>\n",
       "      <td>1344816000</td>\n",
       "      <td>Dont buy</td>\n",
       "      <td>It came broken in pieces. The ribbon was dull ...</td>\n",
       "    </tr>\n",
       "    <tr>\n",
       "      <th>1</th>\n",
       "      <td>220133</td>\n",
       "      <td>1 star</td>\n",
       "      <td>0.560305</td>\n",
       "      <td>1</td>\n",
       "      <td>1322870400</td>\n",
       "      <td>EXTREMELY SMALL BOXES! VERY DISAPPOINTING</td>\n",
       "      <td>Just received these two boxes which I purchase...</td>\n",
       "    </tr>\n",
       "    <tr>\n",
       "      <th>2</th>\n",
       "      <td>164506</td>\n",
       "      <td>4 stars</td>\n",
       "      <td>0.269262</td>\n",
       "      <td>1</td>\n",
       "      <td>1254268800</td>\n",
       "      <td>Coffee Chupa Chups</td>\n",
       "      <td>As this order of Coffee Chuppa Chups was cance...</td>\n",
       "    </tr>\n",
       "    <tr>\n",
       "      <th>3</th>\n",
       "      <td>208435</td>\n",
       "      <td>5 stars</td>\n",
       "      <td>0.359861</td>\n",
       "      <td>1</td>\n",
       "      <td>1317081600</td>\n",
       "      <td>Bait &amp; Switch</td>\n",
       "      <td>**Vine Voices will receive a total of 3 Licket...</td>\n",
       "    </tr>\n",
       "    <tr>\n",
       "      <th>4</th>\n",
       "      <td>334152</td>\n",
       "      <td>1 star</td>\n",
       "      <td>0.663169</td>\n",
       "      <td>1</td>\n",
       "      <td>1336780800</td>\n",
       "      <td>Loaded with sugars and contains undeclared fat...</td>\n",
       "      <td>People, learn how to read nutrition labels. Se...</td>\n",
       "    </tr>\n",
       "  </tbody>\n",
       "</table>\n",
       "</div>"
      ],
      "text/plain": [
       "       Id    label     score  Score        Time  \\\n",
       "0  283490  5 stars   0.31934      1  1344816000   \n",
       "1  220133   1 star  0.560305      1  1322870400   \n",
       "2  164506  4 stars  0.269262      1  1254268800   \n",
       "3  208435  5 stars  0.359861      1  1317081600   \n",
       "4  334152   1 star  0.663169      1  1336780800   \n",
       "\n",
       "                                             Summary  \\\n",
       "0                                           Dont buy   \n",
       "1          EXTREMELY SMALL BOXES! VERY DISAPPOINTING   \n",
       "2                                 Coffee Chupa Chups   \n",
       "3                                      Bait & Switch   \n",
       "4  Loaded with sugars and contains undeclared fat...   \n",
       "\n",
       "                                                Text  \n",
       "0  It came broken in pieces. The ribbon was dull ...  \n",
       "1  Just received these two boxes which I purchase...  \n",
       "2  As this order of Coffee Chuppa Chups was cance...  \n",
       "3  **Vine Voices will receive a total of 3 Licket...  \n",
       "4  People, learn how to read nutrition labels. Se...  "
      ]
     },
     "execution_count": 29,
     "metadata": {},
     "output_type": "execute_result"
    }
   ],
   "source": [
    "df2.head()"
   ]
  },
  {
   "cell_type": "code",
   "execution_count": 30,
   "id": "c96a8ddc",
   "metadata": {
    "execution": {
     "iopub.execute_input": "2022-09-25T17:51:54.795626Z",
     "iopub.status.busy": "2022-09-25T17:51:54.795294Z",
     "iopub.status.idle": "2022-09-25T17:51:54.800999Z",
     "shell.execute_reply": "2022-09-25T17:51:54.800054Z"
    },
    "papermill": {
     "duration": 0.019396,
     "end_time": "2022-09-25T17:51:54.802992",
     "exception": false,
     "start_time": "2022-09-25T17:51:54.783596",
     "status": "completed"
    },
    "tags": []
   },
   "outputs": [],
   "source": [
    "df2=df2.rename(columns={'score':'Pred_score','label':'Pred_label'})"
   ]
  },
  {
   "cell_type": "code",
   "execution_count": 31,
   "id": "83ffbae7",
   "metadata": {
    "execution": {
     "iopub.execute_input": "2022-09-25T17:51:54.826080Z",
     "iopub.status.busy": "2022-09-25T17:51:54.825764Z",
     "iopub.status.idle": "2022-09-25T17:51:54.838057Z",
     "shell.execute_reply": "2022-09-25T17:51:54.837024Z"
    },
    "papermill": {
     "duration": 0.026481,
     "end_time": "2022-09-25T17:51:54.840363",
     "exception": false,
     "start_time": "2022-09-25T17:51:54.813882",
     "status": "completed"
    },
    "tags": []
   },
   "outputs": [
    {
     "data": {
      "text/html": [
       "<div>\n",
       "<style scoped>\n",
       "    .dataframe tbody tr th:only-of-type {\n",
       "        vertical-align: middle;\n",
       "    }\n",
       "\n",
       "    .dataframe tbody tr th {\n",
       "        vertical-align: top;\n",
       "    }\n",
       "\n",
       "    .dataframe thead th {\n",
       "        text-align: right;\n",
       "    }\n",
       "</style>\n",
       "<table border=\"1\" class=\"dataframe\">\n",
       "  <thead>\n",
       "    <tr style=\"text-align: right;\">\n",
       "      <th></th>\n",
       "      <th>Id</th>\n",
       "      <th>Pred_label</th>\n",
       "      <th>Pred_score</th>\n",
       "      <th>Score</th>\n",
       "      <th>Time</th>\n",
       "      <th>Summary</th>\n",
       "      <th>Text</th>\n",
       "    </tr>\n",
       "  </thead>\n",
       "  <tbody>\n",
       "    <tr>\n",
       "      <th>0</th>\n",
       "      <td>283490</td>\n",
       "      <td>5 stars</td>\n",
       "      <td>0.31934</td>\n",
       "      <td>1</td>\n",
       "      <td>1344816000</td>\n",
       "      <td>Dont buy</td>\n",
       "      <td>It came broken in pieces. The ribbon was dull ...</td>\n",
       "    </tr>\n",
       "    <tr>\n",
       "      <th>1</th>\n",
       "      <td>220133</td>\n",
       "      <td>1 star</td>\n",
       "      <td>0.560305</td>\n",
       "      <td>1</td>\n",
       "      <td>1322870400</td>\n",
       "      <td>EXTREMELY SMALL BOXES! VERY DISAPPOINTING</td>\n",
       "      <td>Just received these two boxes which I purchase...</td>\n",
       "    </tr>\n",
       "    <tr>\n",
       "      <th>2</th>\n",
       "      <td>164506</td>\n",
       "      <td>4 stars</td>\n",
       "      <td>0.269262</td>\n",
       "      <td>1</td>\n",
       "      <td>1254268800</td>\n",
       "      <td>Coffee Chupa Chups</td>\n",
       "      <td>As this order of Coffee Chuppa Chups was cance...</td>\n",
       "    </tr>\n",
       "  </tbody>\n",
       "</table>\n",
       "</div>"
      ],
      "text/plain": [
       "       Id Pred_label Pred_score  Score        Time  \\\n",
       "0  283490    5 stars    0.31934      1  1344816000   \n",
       "1  220133     1 star   0.560305      1  1322870400   \n",
       "2  164506    4 stars   0.269262      1  1254268800   \n",
       "\n",
       "                                     Summary  \\\n",
       "0                                   Dont buy   \n",
       "1  EXTREMELY SMALL BOXES! VERY DISAPPOINTING   \n",
       "2                         Coffee Chupa Chups   \n",
       "\n",
       "                                                Text  \n",
       "0  It came broken in pieces. The ribbon was dull ...  \n",
       "1  Just received these two boxes which I purchase...  \n",
       "2  As this order of Coffee Chuppa Chups was cance...  "
      ]
     },
     "execution_count": 31,
     "metadata": {},
     "output_type": "execute_result"
    }
   ],
   "source": [
    "df2.head(3)"
   ]
  },
  {
   "cell_type": "code",
   "execution_count": 32,
   "id": "70abd800",
   "metadata": {
    "execution": {
     "iopub.execute_input": "2022-09-25T17:51:54.863450Z",
     "iopub.status.busy": "2022-09-25T17:51:54.863150Z",
     "iopub.status.idle": "2022-09-25T17:51:54.874931Z",
     "shell.execute_reply": "2022-09-25T17:51:54.874096Z"
    },
    "papermill": {
     "duration": 0.025507,
     "end_time": "2022-09-25T17:51:54.876891",
     "exception": false,
     "start_time": "2022-09-25T17:51:54.851384",
     "status": "completed"
    },
    "tags": []
   },
   "outputs": [],
   "source": [
    "df2.to_csv('pred_and_real_reviews_scores.csv')"
   ]
  },
  {
   "cell_type": "code",
   "execution_count": 33,
   "id": "88b79ea9",
   "metadata": {
    "execution": {
     "iopub.execute_input": "2022-09-25T17:51:54.900632Z",
     "iopub.status.busy": "2022-09-25T17:51:54.900267Z",
     "iopub.status.idle": "2022-09-25T17:51:54.911324Z",
     "shell.execute_reply": "2022-09-25T17:51:54.910426Z"
    },
    "papermill": {
     "duration": 0.02557,
     "end_time": "2022-09-25T17:51:54.913558",
     "exception": false,
     "start_time": "2022-09-25T17:51:54.887988",
     "status": "completed"
    },
    "tags": []
   },
   "outputs": [],
   "source": [
    "df3=pd.read_csv('./pred_and_real_reviews_scores.csv')"
   ]
  },
  {
   "cell_type": "code",
   "execution_count": 34,
   "id": "faebd073",
   "metadata": {
    "execution": {
     "iopub.execute_input": "2022-09-25T17:51:54.937641Z",
     "iopub.status.busy": "2022-09-25T17:51:54.937310Z",
     "iopub.status.idle": "2022-09-25T17:51:54.950593Z",
     "shell.execute_reply": "2022-09-25T17:51:54.948749Z"
    },
    "papermill": {
     "duration": 0.027958,
     "end_time": "2022-09-25T17:51:54.952835",
     "exception": false,
     "start_time": "2022-09-25T17:51:54.924877",
     "status": "completed"
    },
    "tags": []
   },
   "outputs": [
    {
     "data": {
      "text/html": [
       "<div>\n",
       "<style scoped>\n",
       "    .dataframe tbody tr th:only-of-type {\n",
       "        vertical-align: middle;\n",
       "    }\n",
       "\n",
       "    .dataframe tbody tr th {\n",
       "        vertical-align: top;\n",
       "    }\n",
       "\n",
       "    .dataframe thead th {\n",
       "        text-align: right;\n",
       "    }\n",
       "</style>\n",
       "<table border=\"1\" class=\"dataframe\">\n",
       "  <thead>\n",
       "    <tr style=\"text-align: right;\">\n",
       "      <th></th>\n",
       "      <th>Unnamed: 0</th>\n",
       "      <th>Id</th>\n",
       "      <th>Pred_label</th>\n",
       "      <th>Pred_score</th>\n",
       "      <th>Score</th>\n",
       "      <th>Time</th>\n",
       "      <th>Summary</th>\n",
       "      <th>Text</th>\n",
       "    </tr>\n",
       "  </thead>\n",
       "  <tbody>\n",
       "    <tr>\n",
       "      <th>0</th>\n",
       "      <td>0</td>\n",
       "      <td>283490</td>\n",
       "      <td>5 stars</td>\n",
       "      <td>0.319340</td>\n",
       "      <td>1</td>\n",
       "      <td>1344816000</td>\n",
       "      <td>Dont buy</td>\n",
       "      <td>It came broken in pieces. The ribbon was dull ...</td>\n",
       "    </tr>\n",
       "    <tr>\n",
       "      <th>1</th>\n",
       "      <td>1</td>\n",
       "      <td>220133</td>\n",
       "      <td>1 star</td>\n",
       "      <td>0.560305</td>\n",
       "      <td>1</td>\n",
       "      <td>1322870400</td>\n",
       "      <td>EXTREMELY SMALL BOXES! VERY DISAPPOINTING</td>\n",
       "      <td>Just received these two boxes which I purchase...</td>\n",
       "    </tr>\n",
       "    <tr>\n",
       "      <th>2</th>\n",
       "      <td>2</td>\n",
       "      <td>164506</td>\n",
       "      <td>4 stars</td>\n",
       "      <td>0.269262</td>\n",
       "      <td>1</td>\n",
       "      <td>1254268800</td>\n",
       "      <td>Coffee Chupa Chups</td>\n",
       "      <td>As this order of Coffee Chuppa Chups was cance...</td>\n",
       "    </tr>\n",
       "    <tr>\n",
       "      <th>3</th>\n",
       "      <td>3</td>\n",
       "      <td>208435</td>\n",
       "      <td>5 stars</td>\n",
       "      <td>0.359861</td>\n",
       "      <td>1</td>\n",
       "      <td>1317081600</td>\n",
       "      <td>Bait &amp; Switch</td>\n",
       "      <td>**Vine Voices will receive a total of 3 Licket...</td>\n",
       "    </tr>\n",
       "    <tr>\n",
       "      <th>4</th>\n",
       "      <td>4</td>\n",
       "      <td>334152</td>\n",
       "      <td>1 star</td>\n",
       "      <td>0.663169</td>\n",
       "      <td>1</td>\n",
       "      <td>1336780800</td>\n",
       "      <td>Loaded with sugars and contains undeclared fat...</td>\n",
       "      <td>People, learn how to read nutrition labels. Se...</td>\n",
       "    </tr>\n",
       "  </tbody>\n",
       "</table>\n",
       "</div>"
      ],
      "text/plain": [
       "   Unnamed: 0      Id Pred_label  Pred_score  Score        Time  \\\n",
       "0           0  283490    5 stars    0.319340      1  1344816000   \n",
       "1           1  220133     1 star    0.560305      1  1322870400   \n",
       "2           2  164506    4 stars    0.269262      1  1254268800   \n",
       "3           3  208435    5 stars    0.359861      1  1317081600   \n",
       "4           4  334152     1 star    0.663169      1  1336780800   \n",
       "\n",
       "                                             Summary  \\\n",
       "0                                           Dont buy   \n",
       "1          EXTREMELY SMALL BOXES! VERY DISAPPOINTING   \n",
       "2                                 Coffee Chupa Chups   \n",
       "3                                      Bait & Switch   \n",
       "4  Loaded with sugars and contains undeclared fat...   \n",
       "\n",
       "                                                Text  \n",
       "0  It came broken in pieces. The ribbon was dull ...  \n",
       "1  Just received these two boxes which I purchase...  \n",
       "2  As this order of Coffee Chuppa Chups was cance...  \n",
       "3  **Vine Voices will receive a total of 3 Licket...  \n",
       "4  People, learn how to read nutrition labels. Se...  "
      ]
     },
     "execution_count": 34,
     "metadata": {},
     "output_type": "execute_result"
    }
   ],
   "source": [
    "df3.head()"
   ]
  },
  {
   "cell_type": "code",
   "execution_count": 35,
   "id": "04aa030c",
   "metadata": {
    "execution": {
     "iopub.execute_input": "2022-09-25T17:51:54.977397Z",
     "iopub.status.busy": "2022-09-25T17:51:54.976377Z",
     "iopub.status.idle": "2022-09-25T17:51:54.982114Z",
     "shell.execute_reply": "2022-09-25T17:51:54.981172Z"
    },
    "papermill": {
     "duration": 0.020144,
     "end_time": "2022-09-25T17:51:54.984306",
     "exception": false,
     "start_time": "2022-09-25T17:51:54.964162",
     "status": "completed"
    },
    "tags": []
   },
   "outputs": [],
   "source": [
    "df3=df3.rename(columns={'Pred_label':'Pred_stars','Score':'Review_stars'})"
   ]
  },
  {
   "cell_type": "code",
   "execution_count": 36,
   "id": "1ea52454",
   "metadata": {
    "execution": {
     "iopub.execute_input": "2022-09-25T17:51:55.008357Z",
     "iopub.status.busy": "2022-09-25T17:51:55.007564Z",
     "iopub.status.idle": "2022-09-25T17:51:55.013825Z",
     "shell.execute_reply": "2022-09-25T17:51:55.012982Z"
    },
    "papermill": {
     "duration": 0.020363,
     "end_time": "2022-09-25T17:51:55.015815",
     "exception": false,
     "start_time": "2022-09-25T17:51:54.995452",
     "status": "completed"
    },
    "tags": []
   },
   "outputs": [],
   "source": [
    "df3['Pred_stars']=df3['Pred_stars'].map(lambda x: x.split()[0])"
   ]
  },
  {
   "cell_type": "code",
   "execution_count": 37,
   "id": "c8497b35",
   "metadata": {
    "execution": {
     "iopub.execute_input": "2022-09-25T17:51:55.039575Z",
     "iopub.status.busy": "2022-09-25T17:51:55.039250Z",
     "iopub.status.idle": "2022-09-25T17:51:55.052373Z",
     "shell.execute_reply": "2022-09-25T17:51:55.051235Z"
    },
    "papermill": {
     "duration": 0.028422,
     "end_time": "2022-09-25T17:51:55.055423",
     "exception": false,
     "start_time": "2022-09-25T17:51:55.027001",
     "status": "completed"
    },
    "tags": []
   },
   "outputs": [
    {
     "name": "stdout",
     "output_type": "stream",
     "text": [
      "<class 'pandas.core.frame.DataFrame'>\n",
      "RangeIndex: 500 entries, 0 to 499\n",
      "Data columns (total 8 columns):\n",
      " #   Column        Non-Null Count  Dtype  \n",
      "---  ------        --------------  -----  \n",
      " 0   Unnamed: 0    500 non-null    int64  \n",
      " 1   Id            500 non-null    int64  \n",
      " 2   Pred_stars    500 non-null    object \n",
      " 3   Pred_score    500 non-null    float64\n",
      " 4   Review_stars  500 non-null    int64  \n",
      " 5   Time          500 non-null    int64  \n",
      " 6   Summary       500 non-null    object \n",
      " 7   Text          500 non-null    object \n",
      "dtypes: float64(1), int64(4), object(3)\n",
      "memory usage: 31.4+ KB\n"
     ]
    }
   ],
   "source": [
    "df3.info()"
   ]
  },
  {
   "cell_type": "code",
   "execution_count": 38,
   "id": "07879b75",
   "metadata": {
    "execution": {
     "iopub.execute_input": "2022-09-25T17:51:55.082025Z",
     "iopub.status.busy": "2022-09-25T17:51:55.081154Z",
     "iopub.status.idle": "2022-09-25T17:51:55.093665Z",
     "shell.execute_reply": "2022-09-25T17:51:55.092672Z"
    },
    "papermill": {
     "duration": 0.027281,
     "end_time": "2022-09-25T17:51:55.095795",
     "exception": false,
     "start_time": "2022-09-25T17:51:55.068514",
     "status": "completed"
    },
    "tags": []
   },
   "outputs": [
    {
     "data": {
      "text/html": [
       "<div>\n",
       "<style scoped>\n",
       "    .dataframe tbody tr th:only-of-type {\n",
       "        vertical-align: middle;\n",
       "    }\n",
       "\n",
       "    .dataframe tbody tr th {\n",
       "        vertical-align: top;\n",
       "    }\n",
       "\n",
       "    .dataframe thead th {\n",
       "        text-align: right;\n",
       "    }\n",
       "</style>\n",
       "<table border=\"1\" class=\"dataframe\">\n",
       "  <thead>\n",
       "    <tr style=\"text-align: right;\">\n",
       "      <th></th>\n",
       "      <th>Unnamed: 0</th>\n",
       "      <th>Id</th>\n",
       "      <th>Pred_stars</th>\n",
       "      <th>Pred_score</th>\n",
       "      <th>Review_stars</th>\n",
       "      <th>Time</th>\n",
       "      <th>Summary</th>\n",
       "      <th>Text</th>\n",
       "    </tr>\n",
       "  </thead>\n",
       "  <tbody>\n",
       "    <tr>\n",
       "      <th>0</th>\n",
       "      <td>0</td>\n",
       "      <td>283490</td>\n",
       "      <td>5</td>\n",
       "      <td>0.319340</td>\n",
       "      <td>1</td>\n",
       "      <td>1344816000</td>\n",
       "      <td>Dont buy</td>\n",
       "      <td>It came broken in pieces. The ribbon was dull ...</td>\n",
       "    </tr>\n",
       "    <tr>\n",
       "      <th>1</th>\n",
       "      <td>1</td>\n",
       "      <td>220133</td>\n",
       "      <td>1</td>\n",
       "      <td>0.560305</td>\n",
       "      <td>1</td>\n",
       "      <td>1322870400</td>\n",
       "      <td>EXTREMELY SMALL BOXES! VERY DISAPPOINTING</td>\n",
       "      <td>Just received these two boxes which I purchase...</td>\n",
       "    </tr>\n",
       "    <tr>\n",
       "      <th>2</th>\n",
       "      <td>2</td>\n",
       "      <td>164506</td>\n",
       "      <td>4</td>\n",
       "      <td>0.269262</td>\n",
       "      <td>1</td>\n",
       "      <td>1254268800</td>\n",
       "      <td>Coffee Chupa Chups</td>\n",
       "      <td>As this order of Coffee Chuppa Chups was cance...</td>\n",
       "    </tr>\n",
       "    <tr>\n",
       "      <th>3</th>\n",
       "      <td>3</td>\n",
       "      <td>208435</td>\n",
       "      <td>5</td>\n",
       "      <td>0.359861</td>\n",
       "      <td>1</td>\n",
       "      <td>1317081600</td>\n",
       "      <td>Bait &amp; Switch</td>\n",
       "      <td>**Vine Voices will receive a total of 3 Licket...</td>\n",
       "    </tr>\n",
       "    <tr>\n",
       "      <th>4</th>\n",
       "      <td>4</td>\n",
       "      <td>334152</td>\n",
       "      <td>1</td>\n",
       "      <td>0.663169</td>\n",
       "      <td>1</td>\n",
       "      <td>1336780800</td>\n",
       "      <td>Loaded with sugars and contains undeclared fat...</td>\n",
       "      <td>People, learn how to read nutrition labels. Se...</td>\n",
       "    </tr>\n",
       "  </tbody>\n",
       "</table>\n",
       "</div>"
      ],
      "text/plain": [
       "   Unnamed: 0      Id Pred_stars  Pred_score  Review_stars        Time  \\\n",
       "0           0  283490          5    0.319340             1  1344816000   \n",
       "1           1  220133          1    0.560305             1  1322870400   \n",
       "2           2  164506          4    0.269262             1  1254268800   \n",
       "3           3  208435          5    0.359861             1  1317081600   \n",
       "4           4  334152          1    0.663169             1  1336780800   \n",
       "\n",
       "                                             Summary  \\\n",
       "0                                           Dont buy   \n",
       "1          EXTREMELY SMALL BOXES! VERY DISAPPOINTING   \n",
       "2                                 Coffee Chupa Chups   \n",
       "3                                      Bait & Switch   \n",
       "4  Loaded with sugars and contains undeclared fat...   \n",
       "\n",
       "                                                Text  \n",
       "0  It came broken in pieces. The ribbon was dull ...  \n",
       "1  Just received these two boxes which I purchase...  \n",
       "2  As this order of Coffee Chuppa Chups was cance...  \n",
       "3  **Vine Voices will receive a total of 3 Licket...  \n",
       "4  People, learn how to read nutrition labels. Se...  "
      ]
     },
     "execution_count": 38,
     "metadata": {},
     "output_type": "execute_result"
    }
   ],
   "source": [
    "df3.head()"
   ]
  },
  {
   "cell_type": "code",
   "execution_count": 39,
   "id": "4e732774",
   "metadata": {
    "execution": {
     "iopub.execute_input": "2022-09-25T17:51:55.120672Z",
     "iopub.status.busy": "2022-09-25T17:51:55.120331Z",
     "iopub.status.idle": "2022-09-25T17:51:55.511671Z",
     "shell.execute_reply": "2022-09-25T17:51:55.510589Z"
    },
    "papermill": {
     "duration": 0.406509,
     "end_time": "2022-09-25T17:51:55.514157",
     "exception": false,
     "start_time": "2022-09-25T17:51:55.107648",
     "status": "completed"
    },
    "tags": []
   },
   "outputs": [
    {
     "name": "stderr",
     "output_type": "stream",
     "text": [
      "/opt/conda/lib/python3.7/site-packages/seaborn/_decorators.py:43: FutureWarning: Pass the following variable as a keyword arg: x. From version 0.12, the only valid positional argument will be `data`, and passing other arguments without an explicit keyword will result in an error or misinterpretation.\n",
      "  FutureWarning\n"
     ]
    },
    {
     "data": {
      "text/plain": [
       "<AxesSubplot:xlabel='Review_stars', ylabel='count'>"
      ]
     },
     "execution_count": 39,
     "metadata": {},
     "output_type": "execute_result"
    },
    {
     "data": {
      "image/png": "[encoded data removed]",
      "text/plain": [
       "<Figure size 1080x360 with 1 Axes>"
      ]
     },
     "metadata": {
      "needs_background": "light"
     },
     "output_type": "display_data"
    }
   ],
   "source": [
    "plt.figure(figsize=(15,5))\n",
    "sns.countplot(df3['Review_stars'],hue=df3['Pred_stars'])"
   ]
  },
  {
   "cell_type": "markdown",
   "id": "5b011058",
   "metadata": {
    "papermill": {
     "duration": 0.017221,
     "end_time": "2022-09-25T17:51:55.550620",
     "exception": false,
     "start_time": "2022-09-25T17:51:55.533399",
     "status": "completed"
    },
    "tags": []
   },
   "source": [
    "Observations :The Predictions from reviews are correlated with the stars.  "
   ]
  }
 ],
 "metadata": {
  "kernelspec": {
   "display_name": "Python 3",
   "language": "python",
   "name": "python3"
  },
  "language_info": {
   "codemirror_mode": {
    "name": "ipython",
    "version": 3
   },
   "file_extension": ".py",
   "mimetype": "text/x-python",
   "name": "python",
   "nbconvert_exporter": "python",
   "pygments_lexer": "ipython3",
   "version": "3.7.12"
  },
  "papermill": {
   "default_parameters": {},
   "duration": 234.504481,
   "end_time": "2022-09-25T17:51:58.938108",
   "environment_variables": {},
   "exception": null,
   "input_path": "__notebook__.ipynb",
   "output_path": "__notebook__.ipynb",
   "parameters": {},
   "start_time": "2022-09-25T17:48:04.433627",
   "version": "2.3.4"
  },
  "widgets": {
   "application/vnd.jupyter.widget-state+json": {
    "state": {
     "004b7fc637484aa691371bc6dc02c3b4": {
      "model_module": "@jupyter-widgets/controls",
      "model_module_version": "1.5.0",
      "model_name": "HBoxModel",
      "state": {
       "_dom_classes": [],
       "_model_module": "@jupyter-widgets/controls",
       "_model_module_version": "1.5.0",
       "_model_name": "HBoxModel",
       "_view_count": null,
       "_view_module": "@jupyter-widgets/controls",
       "_view_module_version": "1.5.0",
       "_view_name": "HBoxView",
       "box_style": "",
       "children": [
        "IPY_MODEL_cf481b6c95c248a6bccc28749e5ed44f",
        "IPY_MODEL_9bc656d2a55c4c66ad0294095c329830",
        "IPY_MODEL_ca7be70b8766428283c88e0977ab634e"
       ],
       "layout": "IPY_MODEL_91644f84becd4ab4bcc5a68775c85821"
      }
     },
     "014464438eb14314b2e43b0df3b54b1e": {
      "model_module": "@jupyter-widgets/controls",
      "model_module_version": "1.5.0",
      "model_name": "FloatProgressModel",
      "state": {
       "_dom_classes": [],
       "_model_module": "@jupyter-widgets/controls",
       "_model_module_version": "1.5.0",
       "_model_name": "FloatProgressModel",
       "_view_count": null,
       "_view_module": "@jupyter-widgets/controls",
       "_view_module_version": "1.5.0",
       "_view_name": "ProgressView",
       "bar_style": "success",
       "description": "",
       "description_tooltip": null,
       "layout": "IPY_MODEL_26c75c6786d14c38a4263b209e9fb119",
       "max": 112.0,
       "min": 0.0,
       "orientation": "horizontal",
       "style": "IPY_MODEL_7a101afd49f343e0925aecf227a1015a",
       "value": 112.0
      }
     },
     "0b6a39953cc94225ae93479343b61ccd": {
      "model_module": "@jupyter-widgets/controls",
      "model_module_version": "1.5.0",
      "model_name": "FloatProgressModel",
      "state": {
       "_dom_classes": [],
       "_model_module": "@jupyter-widgets/controls",
       "_model_module_version": "1.5.0",
       "_model_name": "FloatProgressModel",
       "_view_count": null,
       "_view_module": "@jupyter-widgets/controls",
       "_view_module_version": "1.5.0",
       "_view_name": "ProgressView",
       "bar_style": "success",
       "description": "",
       "description_tooltip": null,
       "layout": "IPY_MODEL_a2617dc82e024e7e94844b9e620c79da",
       "max": 669491321.0,
       "min": 0.0,
       "orientation": "horizontal",
       "style": "IPY_MODEL_bfb7803e0333442cbc15367c9f5194fd",
       "value": 669491321.0
      }
     },
     "0ca60dd5922a434296e02e993239985a": {
      "model_module": "@jupyter-widgets/controls",
      "model_module_version": "1.5.0",
      "model_name": "ProgressStyleModel",
      "state": {
       "_model_module": "@jupyter-widgets/controls",
       "_model_module_version": "1.5.0",
       "_model_name": "ProgressStyleModel",
       "_view_count": null,
       "_view_module": "@jupyter-widgets/base",
       "_view_module_version": "1.2.0",
       "_view_name": "StyleView",
       "bar_color": null,
       "description_width": ""
      }
     },
     "0e1a6dd49829404899be7861bbe2535c": {
      "model_module": "@jupyter-widgets/base",
      "model_module_version": "1.2.0",
      "model_name": "LayoutModel",
      "state": {
       "_model_module": "@jupyter-widgets/base",
       "_model_module_version": "1.2.0",
       "_model_name": "LayoutModel",
       "_view_count": null,
       "_view_module": "@jupyter-widgets/base",
       "_view_module_version": "1.2.0",
       "_view_name": "LayoutView",
       "align_content": null,
       "align_items": null,
       "align_self": null,
       "border": null,
       "bottom": null,
       "display": null,
       "flex": null,
       "flex_flow": null,
       "grid_area": null,
       "grid_auto_columns": null,
       "grid_auto_flow": null,
       "grid_auto_rows": null,
       "grid_column": null,
       "grid_gap": null,
       "grid_row": null,
       "grid_template_areas": null,
       "grid_template_columns": null,
       "grid_template_rows": null,
       "height": null,
       "justify_content": null,
       "justify_items": null,
       "left": null,
       "margin": null,
       "max_height": null,
       "max_width": null,
       "min_height": null,
       "min_width": null,
       "object_fit": null,
       "object_position": null,
       "order": null,
       "overflow": null,
       "overflow_x": null,
       "overflow_y": null,
       "padding": null,
       "right": null,
       "top": null,
       "visibility": null,
       "width": null
      }
     },
     "11f145ab7e1d4bf99284e9be162d6d08": {
      "model_module": "@jupyter-widgets/controls",
      "model_module_version": "1.5.0",
      "model_name": "HBoxModel",
      "state": {
       "_dom_classes": [],
       "_model_module": "@jupyter-widgets/controls",
       "_model_module_version": "1.5.0",
       "_model_name": "HBoxModel",
       "_view_count": null,
       "_view_module": "@jupyter-widgets/controls",
       "_view_module_version": "1.5.0",
       "_view_name": "HBoxView",
       "box_style": "",
       "children": [
        "IPY_MODEL_77c86e2a18ca40f78fe2f4c27c62af98",
        "IPY_MODEL_0b6a39953cc94225ae93479343b61ccd",
        "IPY_MODEL_22da72b4dce54819928471fdb25605f0"
       ],
       "layout": "IPY_MODEL_1a70d83426c0417a8422542eeec90cb9"
      }
     },
     "17348587f3694212a2482f04af43aaca": {
      "model_module": "@jupyter-widgets/base",
      "model_module_version": "1.2.0",
      "model_name": "LayoutModel",
      "state": {
       "_model_module": "@jupyter-widgets/base",
       "_model_module_version": "1.2.0",
       "_model_name": "LayoutModel",
       "_view_count": null,
       "_view_module": "@jupyter-widgets/base",
       "_view_module_version": "1.2.0",
       "_view_name": "LayoutView",
       "align_content": null,
       "align_items": null,
       "align_self": null,
       "border": null,
       "bottom": null,
       "display": null,
       "flex": null,
       "flex_flow": null,
       "grid_area": null,
       "grid_auto_columns": null,
       "grid_auto_flow": null,
       "grid_auto_rows": null,
       "grid_column": null,
       "grid_gap": null,
       "grid_row": null,
       "grid_template_areas": null,
       "grid_template_columns": null,
       "grid_template_rows": null,
       "height": null,
       "justify_content": null,
       "justify_items": null,
       "left": null,
       "margin": null,
       "max_height": null,
       "max_width": null,
       "min_height": null,
       "min_width": null,
       "object_fit": null,
       "object_position": null,
       "order": null,
       "overflow": null,
       "overflow_x": null,
       "overflow_y": null,
       "padding": null,
       "right": null,
       "top": null,
       "visibility": null,
       "width": null
      }
     },
     "175e807626e843d19b73bdf89c1443fd": {
      "model_module": "@jupyter-widgets/base",
      "model_module_version": "1.2.0",
      "model_name": "LayoutModel",
      "state": {
       "_model_module": "@jupyter-widgets/base",
       "_model_module_version": "1.2.0",
       "_model_name": "LayoutModel",
       "_view_count": null,
       "_view_module": "@jupyter-widgets/base",
       "_view_module_version": "1.2.0",
       "_view_name": "LayoutView",
       "align_content": null,
       "align_items": null,
       "align_self": null,
       "border": null,
       "bottom": null,
       "display": null,
       "flex": null,
       "flex_flow": null,
       "grid_area": null,
       "grid_auto_columns": null,
       "grid_auto_flow": null,
       "grid_auto_rows": null,
       "grid_column": null,
       "grid_gap": null,
       "grid_row": null,
       "grid_template_areas": null,
       "grid_template_columns": null,
       "grid_template_rows": null,
       "height": null,
       "justify_content": null,
       "justify_items": null,
       "left": null,
       "margin": null,
       "max_height": null,
       "max_width": null,
       "min_height": null,
       "min_width": null,
       "object_fit": null,
       "object_position": null,
       "order": null,
       "overflow": null,
       "overflow_x": null,
       "overflow_y": null,
       "padding": null,
       "right": null,
       "top": null,
       "visibility": null,
       "width": null
      }
     },
     "1a3e3c0ca436460ca1f11c33ec60db64": {
      "model_module": "@jupyter-widgets/controls",
      "model_module_version": "1.5.0",
      "model_name": "HTMLModel",
      "state": {
       "_dom_classes": [],
       "_model_module": "@jupyter-widgets/controls",
       "_model_module_version": "1.5.0",
       "_model_name": "HTMLModel",
       "_view_count": null,
       "_view_module": "@jupyter-widgets/controls",
       "_view_module_version": "1.5.0",
       "_view_name": "HTMLView",
       "description": "",
       "description_tooltip": null,
       "layout": "IPY_MODEL_3d37fd5e75734109b5a084fd910c1ca5",
       "placeholder": "​",
       "style": "IPY_MODEL_89b2bcd7a45a4ed4b2207763b097c249",
       "value": "Downloading: 100%"
      }
     },
     "1a70d83426c0417a8422542eeec90cb9": {
      "model_module": "@jupyter-widgets/base",
      "model_module_version": "1.2.0",
      "model_name": "LayoutModel",
      "state": {
       "_model_module": "@jupyter-widgets/base",
       "_model_module_version": "1.2.0",
       "_model_name": "LayoutModel",
       "_view_count": null,
       "_view_module": "@jupyter-widgets/base",
       "_view_module_version": "1.2.0",
       "_view_name": "LayoutView",
       "align_content": null,
       "align_items": null,
       "align_self": null,
       "border": null,
       "bottom": null,
       "display": null,
       "flex": null,
       "flex_flow": null,
       "grid_area": null,
       "grid_auto_columns": null,
       "grid_auto_flow": null,
       "grid_auto_rows": null,
       "grid_column": null,
       "grid_gap": null,
       "grid_row": null,
       "grid_template_areas": null,
       "grid_template_columns": null,
       "grid_template_rows": null,
       "height": null,
       "justify_content": null,
       "justify_items": null,
       "left": null,
       "margin": null,
       "max_height": null,
       "max_width": null,
       "min_height": null,
       "min_width": null,
       "object_fit": null,
       "object_position": null,
       "order": null,
       "overflow": null,
       "overflow_x": null,
       "overflow_y": null,
       "padding": null,
       "right": null,
       "top": null,
       "visibility": null,
       "width": null
      }
     },
     "1d196997343640249c2ee6eb727cce0f": {
      "model_module": "@jupyter-widgets/base",
      "model_module_version": "1.2.0",
      "model_name": "LayoutModel",
      "state": {
       "_model_module": "@jupyter-widgets/base",
       "_model_module_version": "1.2.0",
       "_model_name": "LayoutModel",
       "_view_count": null,
       "_view_module": "@jupyter-widgets/base",
       "_view_module_version": "1.2.0",
       "_view_name": "LayoutView",
       "align_content": null,
       "align_items": null,
       "align_self": null,
       "border": null,
       "bottom": null,
       "display": null,
       "flex": null,
       "flex_flow": null,
       "grid_area": null,
       "grid_auto_columns": null,
       "grid_auto_flow": null,
       "grid_auto_rows": null,
       "grid_column": null,
       "grid_gap": null,
       "grid_row": null,
       "grid_template_areas": null,
       "grid_template_columns": null,
       "grid_template_rows": null,
       "height": null,
       "justify_content": null,
       "justify_items": null,
       "left": null,
       "margin": null,
       "max_height": null,
       "max_width": null,
       "min_height": null,
       "min_width": null,
       "object_fit": null,
       "object_position": null,
       "order": null,
       "overflow": null,
       "overflow_x": null,
       "overflow_y": null,
       "padding": null,
       "right": null,
       "top": null,
       "visibility": null,
       "width": null
      }
     },
     "1d8f89efad934a5e8cb3a9b71742484d": {
      "model_module": "@jupyter-widgets/controls",
      "model_module_version": "1.5.0",
      "model_name": "HBoxModel",
      "state": {
       "_dom_classes": [],
       "_model_module": "@jupyter-widgets/controls",
       "_model_module_version": "1.5.0",
       "_model_name": "HBoxModel",
       "_view_count": null,
       "_view_module": "@jupyter-widgets/controls",
       "_view_module_version": "1.5.0",
       "_view_name": "HBoxView",
       "box_style": "",
       "children": [
        "IPY_MODEL_63bdda63dd8142569e455074faecceb9",
        "IPY_MODEL_3417b551d45d46c7998a64779776f23c",
        "IPY_MODEL_b4191b4258db40f7a3041299b63d1087"
       ],
       "layout": "IPY_MODEL_dd0bf1737f2c4d718eef8974349a111e"
      }
     },
     "227444902f9d480ba39e6c106572040d": {
      "model_module": "@jupyter-widgets/controls",
      "model_module_version": "1.5.0",
      "model_name": "ProgressStyleModel",
      "state": {
       "_model_module": "@jupyter-widgets/controls",
       "_model_module_version": "1.5.0",
       "_model_name": "ProgressStyleModel",
       "_view_count": null,
       "_view_module": "@jupyter-widgets/base",
       "_view_module_version": "1.2.0",
       "_view_name": "StyleView",
       "bar_color": null,
       "description_width": ""
      }
     },
     "22da72b4dce54819928471fdb25605f0": {
      "model_module": "@jupyter-widgets/controls",
      "model_module_version": "1.5.0",
      "model_name": "HTMLModel",
      "state": {
       "_dom_classes": [],
       "_model_module": "@jupyter-widgets/controls",
       "_model_module_version": "1.5.0",
       "_model_name": "HTMLModel",
       "_view_count": null,
       "_view_module": "@jupyter-widgets/controls",
       "_view_module_version": "1.5.0",
       "_view_name": "HTMLView",
       "description": "",
       "description_tooltip": null,
       "layout": "IPY_MODEL_9afd46a98098493096bd457bf4f31ac8",
       "placeholder": "​",
       "style": "IPY_MODEL_cbf43b3b7a764d34bbc89397a36fd53d",
       "value": " 638M/638M [00:39&lt;00:00, 18.1MB/s]"
      }
     },
     "26c75c6786d14c38a4263b209e9fb119": {
      "model_module": "@jupyter-widgets/base",
      "model_module_version": "1.2.0",
      "model_name": "LayoutModel",
      "state": {
       "_model_module": "@jupyter-widgets/base",
       "_model_module_version": "1.2.0",
       "_model_name": "LayoutModel",
       "_view_count": null,
       "_view_module": "@jupyter-widgets/base",
       "_view_module_version": "1.2.0",
       "_view_name": "LayoutView",
       "align_content": null,
       "align_items": null,
       "align_self": null,
       "border": null,
       "bottom": null,
       "display": null,
       "flex": null,
       "flex_flow": null,
       "grid_area": null,
       "grid_auto_columns": null,
       "grid_auto_flow": null,
       "grid_auto_rows": null,
       "grid_column": null,
       "grid_gap": null,
       "grid_row": null,
       "grid_template_areas": null,
       "grid_template_columns": null,
       "grid_template_rows": null,
       "height": null,
       "justify_content": null,
       "justify_items": null,
       "left": null,
       "margin": null,
       "max_height": null,
       "max_width": null,
       "min_height": null,
       "min_width": null,
       "object_fit": null,
       "object_position": null,
       "order": null,
       "overflow": null,
       "overflow_x": null,
       "overflow_y": null,
       "padding": null,
       "right": null,
       "top": null,
       "visibility": null,
       "width": null
      }
     },
     "2cd4f5db067a4d39b4962dad2a54085c": {
      "model_module": "@jupyter-widgets/controls",
      "model_module_version": "1.5.0",
      "model_name": "DescriptionStyleModel",
      "state": {
       "_model_module": "@jupyter-widgets/controls",
       "_model_module_version": "1.5.0",
       "_model_name": "DescriptionStyleModel",
       "_view_count": null,
       "_view_module": "@jupyter-widgets/base",
       "_view_module_version": "1.2.0",
       "_view_name": "StyleView",
       "description_width": ""
      }
     },
     "2da99b6e6cc64334ab94d25689b3e2b9": {
      "model_module": "@jupyter-widgets/controls",
      "model_module_version": "1.5.0",
      "model_name": "HTMLModel",
      "state": {
       "_dom_classes": [],
       "_model_module": "@jupyter-widgets/controls",
       "_model_module_version": "1.5.0",
       "_model_name": "HTMLModel",
       "_view_count": null,
       "_view_module": "@jupyter-widgets/controls",
       "_view_module_version": "1.5.0",
       "_view_name": "HTMLView",
       "description": "",
       "description_tooltip": null,
       "layout": "IPY_MODEL_382e315a69ec4ecd974639482b04d455",
       "placeholder": "​",
       "style": "IPY_MODEL_2cd4f5db067a4d39b4962dad2a54085c",
       "value": " 112/112 [00:00&lt;00:00, 4.45kB/s]"
      }
     },
     "32dc89a84b6d44c9a1d095c4c501cb1e": {
      "model_module": "@jupyter-widgets/controls",
      "model_module_version": "1.5.0",
      "model_name": "DescriptionStyleModel",
      "state": {
       "_model_module": "@jupyter-widgets/controls",
       "_model_module_version": "1.5.0",
       "_model_name": "DescriptionStyleModel",
       "_view_count": null,
       "_view_module": "@jupyter-widgets/base",
       "_view_module_version": "1.2.0",
       "_view_name": "StyleView",
       "description_width": ""
      }
     },
     "3417b551d45d46c7998a64779776f23c": {
      "model_module": "@jupyter-widgets/controls",
      "model_module_version": "1.5.0",
      "model_name": "FloatProgressModel",
      "state": {
       "_dom_classes": [],
       "_model_module": "@jupyter-widgets/controls",
       "_model_module_version": "1.5.0",
       "_model_name": "FloatProgressModel",
       "_view_count": null,
       "_view_module": "@jupyter-widgets/controls",
       "_view_module_version": "1.5.0",
       "_view_name": "ProgressView",
       "bar_style": "success",
       "description": "",
       "description_tooltip": null,
       "layout": "IPY_MODEL_a98dafca119946fa929dbb8eccc5953b",
       "max": 871891.0,
       "min": 0.0,
       "orientation": "horizontal",
       "style": "IPY_MODEL_0ca60dd5922a434296e02e993239985a",
       "value": 871891.0
      }
     },
     "382e315a69ec4ecd974639482b04d455": {
      "model_module": "@jupyter-widgets/base",
      "model_module_version": "1.2.0",
      "model_name": "LayoutModel",
      "state": {
       "_model_module": "@jupyter-widgets/base",
       "_model_module_version": "1.2.0",
       "_model_name": "LayoutModel",
       "_view_count": null,
       "_view_module": "@jupyter-widgets/base",
       "_view_module_version": "1.2.0",
       "_view_name": "LayoutView",
       "align_content": null,
       "align_items": null,
       "align_self": null,
       "border": null,
       "bottom": null,
       "display": null,
       "flex": null,
       "flex_flow": null,
       "grid_area": null,
       "grid_auto_columns": null,
       "grid_auto_flow": null,
       "grid_auto_rows": null,
       "grid_column": null,
       "grid_gap": null,
       "grid_row": null,
       "grid_template_areas": null,
       "grid_template_columns": null,
       "grid_template_rows": null,
       "height": null,
       "justify_content": null,
       "justify_items": null,
       "left": null,
       "margin": null,
       "max_height": null,
       "max_width": null,
       "min_height": null,
       "min_width": null,
       "object_fit": null,
       "object_position": null,
       "order": null,
       "overflow": null,
       "overflow_x": null,
       "overflow_y": null,
       "padding": null,
       "right": null,
       "top": null,
       "visibility": null,
       "width": null
      }
     },
     "38d8d9e263404c3f9d539b7783a3e809": {
      "model_module": "@jupyter-widgets/controls",
      "model_module_version": "1.5.0",
      "model_name": "DescriptionStyleModel",
      "state": {
       "_model_module": "@jupyter-widgets/controls",
       "_model_module_version": "1.5.0",
       "_model_name": "DescriptionStyleModel",
       "_view_count": null,
       "_view_module": "@jupyter-widgets/base",
       "_view_module_version": "1.2.0",
       "_view_name": "StyleView",
       "description_width": ""
      }
     },
     "3d37fd5e75734109b5a084fd910c1ca5": {
      "model_module": "@jupyter-widgets/base",
      "model_module_version": "1.2.0",
      "model_name": "LayoutModel",
      "state": {
       "_model_module": "@jupyter-widgets/base",
       "_model_module_version": "1.2.0",
       "_model_name": "LayoutModel",
       "_view_count": null,
       "_view_module": "@jupyter-widgets/base",
       "_view_module_version": "1.2.0",
       "_view_name": "LayoutView",
       "align_content": null,
       "align_items": null,
       "align_self": null,
       "border": null,
       "bottom": null,
       "display": null,
       "flex": null,
       "flex_flow": null,
       "grid_area": null,
       "grid_auto_columns": null,
       "grid_auto_flow": null,
       "grid_auto_rows": null,
       "grid_column": null,
       "grid_gap": null,
       "grid_row": null,
       "grid_template_areas": null,
       "grid_template_columns": null,
       "grid_template_rows": null,
       "height": null,
       "justify_content": null,
       "justify_items": null,
       "left": null,
       "margin": null,
       "max_height": null,
       "max_width": null,
       "min_height": null,
       "min_width": null,
       "object_fit": null,
       "object_position": null,
       "order": null,
       "overflow": null,
       "overflow_x": null,
       "overflow_y": null,
       "padding": null,
       "right": null,
       "top": null,
       "visibility": null,
       "width": null
      }
     },
     "50fb28109a2f4ede8042fd88856f29a2": {
      "model_module": "@jupyter-widgets/base",
      "model_module_version": "1.2.0",
      "model_name": "LayoutModel",
      "state": {
       "_model_module": "@jupyter-widgets/base",
       "_model_module_version": "1.2.0",
       "_model_name": "LayoutModel",
       "_view_count": null,
       "_view_module": "@jupyter-widgets/base",
       "_view_module_version": "1.2.0",
       "_view_name": "LayoutView",
       "align_content": null,
       "align_items": null,
       "align_self": null,
       "border": null,
       "bottom": null,
       "display": null,
       "flex": null,
       "flex_flow": null,
       "grid_area": null,
       "grid_auto_columns": null,
       "grid_auto_flow": null,
       "grid_auto_rows": null,
       "grid_column": null,
       "grid_gap": null,
       "grid_row": null,
       "grid_template_areas": null,
       "grid_template_columns": null,
       "grid_template_rows": null,
       "height": null,
       "justify_content": null,
       "justify_items": null,
       "left": null,
       "margin": null,
       "max_height": null,
       "max_width": null,
       "min_height": null,
       "min_width": null,
       "object_fit": null,
       "object_position": null,
       "order": null,
       "overflow": null,
       "overflow_x": null,
       "overflow_y": null,
       "padding": null,
       "right": null,
       "top": null,
       "visibility": null,
       "width": null
      }
     },
     "541c18658f6744918c9a3d7f552a7990": {
      "model_module": "@jupyter-widgets/controls",
      "model_module_version": "1.5.0",
      "model_name": "HTMLModel",
      "state": {
       "_dom_classes": [],
       "_model_module": "@jupyter-widgets/controls",
       "_model_module_version": "1.5.0",
       "_model_name": "HTMLModel",
       "_view_count": null,
       "_view_module": "@jupyter-widgets/controls",
       "_view_module_version": "1.5.0",
       "_view_name": "HTMLView",
       "description": "",
       "description_tooltip": null,
       "layout": "IPY_MODEL_50fb28109a2f4ede8042fd88856f29a2",
       "placeholder": "​",
       "style": "IPY_MODEL_b509ae7ab09d4a48b472d9d51c265ac2",
       "value": " 953/953 [00:00&lt;00:00, 36.5kB/s]"
      }
     },
     "55f71d38d1f8488e82970aba5ca34b67": {
      "model_module": "@jupyter-widgets/controls",
      "model_module_version": "1.5.0",
      "model_name": "HTMLModel",
      "state": {
       "_dom_classes": [],
       "_model_module": "@jupyter-widgets/controls",
       "_model_module_version": "1.5.0",
       "_model_name": "HTMLModel",
       "_view_count": null,
       "_view_module": "@jupyter-widgets/controls",
       "_view_module_version": "1.5.0",
       "_view_name": "HTMLView",
       "description": "",
       "description_tooltip": null,
       "layout": "IPY_MODEL_ab53f5b2ea694aa1aa2fa242e8f5bc9d",
       "placeholder": "​",
       "style": "IPY_MODEL_38d8d9e263404c3f9d539b7783a3e809",
       "value": "Downloading: 100%"
      }
     },
     "63bdda63dd8142569e455074faecceb9": {
      "model_module": "@jupyter-widgets/controls",
      "model_module_version": "1.5.0",
      "model_name": "HTMLModel",
      "state": {
       "_dom_classes": [],
       "_model_module": "@jupyter-widgets/controls",
       "_model_module_version": "1.5.0",
       "_model_name": "HTMLModel",
       "_view_count": null,
       "_view_module": "@jupyter-widgets/controls",
       "_view_module_version": "1.5.0",
       "_view_name": "HTMLView",
       "description": "",
       "description_tooltip": null,
       "layout": "IPY_MODEL_175e807626e843d19b73bdf89c1443fd",
       "placeholder": "​",
       "style": "IPY_MODEL_32dc89a84b6d44c9a1d095c4c501cb1e",
       "value": "Downloading: 100%"
      }
     },
     "6481b17d65834016960eec3e571a2bb6": {
      "model_module": "@jupyter-widgets/base",
      "model_module_version": "1.2.0",
      "model_name": "LayoutModel",
      "state": {
       "_model_module": "@jupyter-widgets/base",
       "_model_module_version": "1.2.0",
       "_model_name": "LayoutModel",
       "_view_count": null,
       "_view_module": "@jupyter-widgets/base",
       "_view_module_version": "1.2.0",
       "_view_name": "LayoutView",
       "align_content": null,
       "align_items": null,
       "align_self": null,
       "border": null,
       "bottom": null,
       "display": null,
       "flex": null,
       "flex_flow": null,
       "grid_area": null,
       "grid_auto_columns": null,
       "grid_auto_flow": null,
       "grid_auto_rows": null,
       "grid_column": null,
       "grid_gap": null,
       "grid_row": null,
       "grid_template_areas": null,
       "grid_template_columns": null,
       "grid_template_rows": null,
       "height": null,
       "justify_content": null,
       "justify_items": null,
       "left": null,
       "margin": null,
       "max_height": null,
       "max_width": null,
       "min_height": null,
       "min_width": null,
       "object_fit": null,
       "object_position": null,
       "order": null,
       "overflow": null,
       "overflow_x": null,
       "overflow_y": null,
       "padding": null,
       "right": null,
       "top": null,
       "visibility": null,
       "width": null
      }
     },
     "6874ac3cbfe24b78be41484cbbbf5e16": {
      "model_module": "@jupyter-widgets/base",
      "model_module_version": "1.2.0",
      "model_name": "LayoutModel",
      "state": {
       "_model_module": "@jupyter-widgets/base",
       "_model_module_version": "1.2.0",
       "_model_name": "LayoutModel",
       "_view_count": null,
       "_view_module": "@jupyter-widgets/base",
       "_view_module_version": "1.2.0",
       "_view_name": "LayoutView",
       "align_content": null,
       "align_items": null,
       "align_self": null,
       "border": null,
       "bottom": null,
       "display": null,
       "flex": null,
       "flex_flow": null,
       "grid_area": null,
       "grid_auto_columns": null,
       "grid_auto_flow": null,
       "grid_auto_rows": null,
       "grid_column": null,
       "grid_gap": null,
       "grid_row": null,
       "grid_template_areas": null,
       "grid_template_columns": null,
       "grid_template_rows": null,
       "height": null,
       "justify_content": null,
       "justify_items": null,
       "left": null,
       "margin": null,
       "max_height": null,
       "max_width": null,
       "min_height": null,
       "min_width": null,
       "object_fit": null,
       "object_position": null,
       "order": null,
       "overflow": null,
       "overflow_x": null,
       "overflow_y": null,
       "padding": null,
       "right": null,
       "top": null,
       "visibility": null,
       "width": null
      }
     },
     "77c86e2a18ca40f78fe2f4c27c62af98": {
      "model_module": "@jupyter-widgets/controls",
      "model_module_version": "1.5.0",
      "model_name": "HTMLModel",
      "state": {
       "_dom_classes": [],
       "_model_module": "@jupyter-widgets/controls",
       "_model_module_version": "1.5.0",
       "_model_name": "HTMLModel",
       "_view_count": null,
       "_view_module": "@jupyter-widgets/controls",
       "_view_module_version": "1.5.0",
       "_view_name": "HTMLView",
       "description": "",
       "description_tooltip": null,
       "layout": "IPY_MODEL_846b16d5e714476d9ef5c887ee801dbc",
       "placeholder": "​",
       "style": "IPY_MODEL_b0018a15341f4b55b5eef3b5f450dae5",
       "value": "Downloading: 100%"
      }
     },
     "79621b1e486f41c6835e5d266b12a1f8": {
      "model_module": "@jupyter-widgets/base",
      "model_module_version": "1.2.0",
      "model_name": "LayoutModel",
      "state": {
       "_model_module": "@jupyter-widgets/base",
       "_model_module_version": "1.2.0",
       "_model_name": "LayoutModel",
       "_view_count": null,
       "_view_module": "@jupyter-widgets/base",
       "_view_module_version": "1.2.0",
       "_view_name": "LayoutView",
       "align_content": null,
       "align_items": null,
       "align_self": null,
       "border": null,
       "bottom": null,
       "display": null,
       "flex": null,
       "flex_flow": null,
       "grid_area": null,
       "grid_auto_columns": null,
       "grid_auto_flow": null,
       "grid_auto_rows": null,
       "grid_column": null,
       "grid_gap": null,
       "grid_row": null,
       "grid_template_areas": null,
       "grid_template_columns": null,
       "grid_template_rows": null,
       "height": null,
       "justify_content": null,
       "justify_items": null,
       "left": null,
       "margin": null,
       "max_height": null,
       "max_width": null,
       "min_height": null,
       "min_width": null,
       "object_fit": null,
       "object_position": null,
       "order": null,
       "overflow": null,
       "overflow_x": null,
       "overflow_y": null,
       "padding": null,
       "right": null,
       "top": null,
       "visibility": null,
       "width": null
      }
     },
     "7a101afd49f343e0925aecf227a1015a": {
      "model_module": "@jupyter-widgets/controls",
      "model_module_version": "1.5.0",
      "model_name": "ProgressStyleModel",
      "state": {
       "_model_module": "@jupyter-widgets/controls",
       "_model_module_version": "1.5.0",
       "_model_name": "ProgressStyleModel",
       "_view_count": null,
       "_view_module": "@jupyter-widgets/base",
       "_view_module_version": "1.2.0",
       "_view_name": "StyleView",
       "bar_color": null,
       "description_width": ""
      }
     },
     "846b16d5e714476d9ef5c887ee801dbc": {
      "model_module": "@jupyter-widgets/base",
      "model_module_version": "1.2.0",
      "model_name": "LayoutModel",
      "state": {
       "_model_module": "@jupyter-widgets/base",
       "_model_module_version": "1.2.0",
       "_model_name": "LayoutModel",
       "_view_count": null,
       "_view_module": "@jupyter-widgets/base",
       "_view_module_version": "1.2.0",
       "_view_name": "LayoutView",
       "align_content": null,
       "align_items": null,
       "align_self": null,
       "border": null,
       "bottom": null,
       "display": null,
       "flex": null,
       "flex_flow": null,
       "grid_area": null,
       "grid_auto_columns": null,
       "grid_auto_flow": null,
       "grid_auto_rows": null,
       "grid_column": null,
       "grid_gap": null,
       "grid_row": null,
       "grid_template_areas": null,
       "grid_template_columns": null,
       "grid_template_rows": null,
       "height": null,
       "justify_content": null,
       "justify_items": null,
       "left": null,
       "margin": null,
       "max_height": null,
       "max_width": null,
       "min_height": null,
       "min_width": null,
       "object_fit": null,
       "object_position": null,
       "order": null,
       "overflow": null,
       "overflow_x": null,
       "overflow_y": null,
       "padding": null,
       "right": null,
       "top": null,
       "visibility": null,
       "width": null
      }
     },
     "89b2bcd7a45a4ed4b2207763b097c249": {
      "model_module": "@jupyter-widgets/controls",
      "model_module_version": "1.5.0",
      "model_name": "DescriptionStyleModel",
      "state": {
       "_model_module": "@jupyter-widgets/controls",
       "_model_module_version": "1.5.0",
       "_model_name": "DescriptionStyleModel",
       "_view_count": null,
       "_view_module": "@jupyter-widgets/base",
       "_view_module_version": "1.2.0",
       "_view_name": "StyleView",
       "description_width": ""
      }
     },
     "91644f84becd4ab4bcc5a68775c85821": {
      "model_module": "@jupyter-widgets/base",
      "model_module_version": "1.2.0",
      "model_name": "LayoutModel",
      "state": {
       "_model_module": "@jupyter-widgets/base",
       "_model_module_version": "1.2.0",
       "_model_name": "LayoutModel",
       "_view_count": null,
       "_view_module": "@jupyter-widgets/base",
       "_view_module_version": "1.2.0",
       "_view_name": "LayoutView",
       "align_content": null,
       "align_items": null,
       "align_self": null,
       "border": null,
       "bottom": null,
       "display": null,
       "flex": null,
       "flex_flow": null,
       "grid_area": null,
       "grid_auto_columns": null,
       "grid_auto_flow": null,
       "grid_auto_rows": null,
       "grid_column": null,
       "grid_gap": null,
       "grid_row": null,
       "grid_template_areas": null,
       "grid_template_columns": null,
       "grid_template_rows": null,
       "height": null,
       "justify_content": null,
       "justify_items": null,
       "left": null,
       "margin": null,
       "max_height": null,
       "max_width": null,
       "min_height": null,
       "min_width": null,
       "object_fit": null,
       "object_position": null,
       "order": null,
       "overflow": null,
       "overflow_x": null,
       "overflow_y": null,
       "padding": null,
       "right": null,
       "top": null,
       "visibility": null,
       "width": null
      }
     },
     "95c9f5e4bc47442fa756c7622ef0af53": {
      "model_module": "@jupyter-widgets/base",
      "model_module_version": "1.2.0",
      "model_name": "LayoutModel",
      "state": {
       "_model_module": "@jupyter-widgets/base",
       "_model_module_version": "1.2.0",
       "_model_name": "LayoutModel",
       "_view_count": null,
       "_view_module": "@jupyter-widgets/base",
       "_view_module_version": "1.2.0",
       "_view_name": "LayoutView",
       "align_content": null,
       "align_items": null,
       "align_self": null,
       "border": null,
       "bottom": null,
       "display": null,
       "flex": null,
       "flex_flow": null,
       "grid_area": null,
       "grid_auto_columns": null,
       "grid_auto_flow": null,
       "grid_auto_rows": null,
       "grid_column": null,
       "grid_gap": null,
       "grid_row": null,
       "grid_template_areas": null,
       "grid_template_columns": null,
       "grid_template_rows": null,
       "height": null,
       "justify_content": null,
       "justify_items": null,
       "left": null,
       "margin": null,
       "max_height": null,
       "max_width": null,
       "min_height": null,
       "min_width": null,
       "object_fit": null,
       "object_position": null,
       "order": null,
       "overflow": null,
       "overflow_x": null,
       "overflow_y": null,
       "padding": null,
       "right": null,
       "top": null,
       "visibility": null,
       "width": null
      }
     },
     "9afd46a98098493096bd457bf4f31ac8": {
      "model_module": "@jupyter-widgets/base",
      "model_module_version": "1.2.0",
      "model_name": "LayoutModel",
      "state": {
       "_model_module": "@jupyter-widgets/base",
       "_model_module_version": "1.2.0",
       "_model_name": "LayoutModel",
       "_view_count": null,
       "_view_module": "@jupyter-widgets/base",
       "_view_module_version": "1.2.0",
       "_view_name": "LayoutView",
       "align_content": null,
       "align_items": null,
       "align_self": null,
       "border": null,
       "bottom": null,
       "display": null,
       "flex": null,
       "flex_flow": null,
       "grid_area": null,
       "grid_auto_columns": null,
       "grid_auto_flow": null,
       "grid_auto_rows": null,
       "grid_column": null,
       "grid_gap": null,
       "grid_row": null,
       "grid_template_areas": null,
       "grid_template_columns": null,
       "grid_template_rows": null,
       "height": null,
       "justify_content": null,
       "justify_items": null,
       "left": null,
       "margin": null,
       "max_height": null,
       "max_width": null,
       "min_height": null,
       "min_width": null,
       "object_fit": null,
       "object_position": null,
       "order": null,
       "overflow": null,
       "overflow_x": null,
       "overflow_y": null,
       "padding": null,
       "right": null,
       "top": null,
       "visibility": null,
       "width": null
      }
     },
     "9bc656d2a55c4c66ad0294095c329830": {
      "model_module": "@jupyter-widgets/controls",
      "model_module_version": "1.5.0",
      "model_name": "FloatProgressModel",
      "state": {
       "_dom_classes": [],
       "_model_module": "@jupyter-widgets/controls",
       "_model_module_version": "1.5.0",
       "_model_name": "FloatProgressModel",
       "_view_count": null,
       "_view_module": "@jupyter-widgets/controls",
       "_view_module_version": "1.5.0",
       "_view_name": "ProgressView",
       "bar_style": "success",
       "description": "",
       "description_tooltip": null,
       "layout": "IPY_MODEL_6874ac3cbfe24b78be41484cbbbf5e16",
       "max": 39.0,
       "min": 0.0,
       "orientation": "horizontal",
       "style": "IPY_MODEL_ae9c5f90204e47018f7189ed18f4c2e7",
       "value": 39.0
      }
     },
     "a2617dc82e024e7e94844b9e620c79da": {
      "model_module": "@jupyter-widgets/base",
      "model_module_version": "1.2.0",
      "model_name": "LayoutModel",
      "state": {
       "_model_module": "@jupyter-widgets/base",
       "_model_module_version": "1.2.0",
       "_model_name": "LayoutModel",
       "_view_count": null,
       "_view_module": "@jupyter-widgets/base",
       "_view_module_version": "1.2.0",
       "_view_name": "LayoutView",
       "align_content": null,
       "align_items": null,
       "align_self": null,
       "border": null,
       "bottom": null,
       "display": null,
       "flex": null,
       "flex_flow": null,
       "grid_area": null,
       "grid_auto_columns": null,
       "grid_auto_flow": null,
       "grid_auto_rows": null,
       "grid_column": null,
       "grid_gap": null,
       "grid_row": null,
       "grid_template_areas": null,
       "grid_template_columns": null,
       "grid_template_rows": null,
       "height": null,
       "justify_content": null,
       "justify_items": null,
       "left": null,
       "margin": null,
       "max_height": null,
       "max_width": null,
       "min_height": null,
       "min_width": null,
       "object_fit": null,
       "object_position": null,
       "order": null,
       "overflow": null,
       "overflow_x": null,
       "overflow_y": null,
       "padding": null,
       "right": null,
       "top": null,
       "visibility": null,
       "width": null
      }
     },
     "a98dafca119946fa929dbb8eccc5953b": {
      "model_module": "@jupyter-widgets/base",
      "model_module_version": "1.2.0",
      "model_name": "LayoutModel",
      "state": {
       "_model_module": "@jupyter-widgets/base",
       "_model_module_version": "1.2.0",
       "_model_name": "LayoutModel",
       "_view_count": null,
       "_view_module": "@jupyter-widgets/base",
       "_view_module_version": "1.2.0",
       "_view_name": "LayoutView",
       "align_content": null,
       "align_items": null,
       "align_self": null,
       "border": null,
       "bottom": null,
       "display": null,
       "flex": null,
       "flex_flow": null,
       "grid_area": null,
       "grid_auto_columns": null,
       "grid_auto_flow": null,
       "grid_auto_rows": null,
       "grid_column": null,
       "grid_gap": null,
       "grid_row": null,
       "grid_template_areas": null,
       "grid_template_columns": null,
       "grid_template_rows": null,
       "height": null,
       "justify_content": null,
       "justify_items": null,
       "left": null,
       "margin": null,
       "max_height": null,
       "max_width": null,
       "min_height": null,
       "min_width": null,
       "object_fit": null,
       "object_position": null,
       "order": null,
       "overflow": null,
       "overflow_x": null,
       "overflow_y": null,
       "padding": null,
       "right": null,
       "top": null,
       "visibility": null,
       "width": null
      }
     },
     "aaa27d7e9b784a8a9c40d55eba119263": {
      "model_module": "@jupyter-widgets/controls",
      "model_module_version": "1.5.0",
      "model_name": "DescriptionStyleModel",
      "state": {
       "_model_module": "@jupyter-widgets/controls",
       "_model_module_version": "1.5.0",
       "_model_name": "DescriptionStyleModel",
       "_view_count": null,
       "_view_module": "@jupyter-widgets/base",
       "_view_module_version": "1.2.0",
       "_view_name": "StyleView",
       "description_width": ""
      }
     },
     "ab53f5b2ea694aa1aa2fa242e8f5bc9d": {
      "model_module": "@jupyter-widgets/base",
      "model_module_version": "1.2.0",
      "model_name": "LayoutModel",
      "state": {
       "_model_module": "@jupyter-widgets/base",
       "_model_module_version": "1.2.0",
       "_model_name": "LayoutModel",
       "_view_count": null,
       "_view_module": "@jupyter-widgets/base",
       "_view_module_version": "1.2.0",
       "_view_name": "LayoutView",
       "align_content": null,
       "align_items": null,
       "align_self": null,
       "border": null,
       "bottom": null,
       "display": null,
       "flex": null,
       "flex_flow": null,
       "grid_area": null,
       "grid_auto_columns": null,
       "grid_auto_flow": null,
       "grid_auto_rows": null,
       "grid_column": null,
       "grid_gap": null,
       "grid_row": null,
       "grid_template_areas": null,
       "grid_template_columns": null,
       "grid_template_rows": null,
       "height": null,
       "justify_content": null,
       "justify_items": null,
       "left": null,
       "margin": null,
       "max_height": null,
       "max_width": null,
       "min_height": null,
       "min_width": null,
       "object_fit": null,
       "object_position": null,
       "order": null,
       "overflow": null,
       "overflow_x": null,
       "overflow_y": null,
       "padding": null,
       "right": null,
       "top": null,
       "visibility": null,
       "width": null
      }
     },
     "ae884f6d1dae4357bbab6170acea20a4": {
      "model_module": "@jupyter-widgets/controls",
      "model_module_version": "1.5.0",
      "model_name": "DescriptionStyleModel",
      "state": {
       "_model_module": "@jupyter-widgets/controls",
       "_model_module_version": "1.5.0",
       "_model_name": "DescriptionStyleModel",
       "_view_count": null,
       "_view_module": "@jupyter-widgets/base",
       "_view_module_version": "1.2.0",
       "_view_name": "StyleView",
       "description_width": ""
      }
     },
     "ae9c5f90204e47018f7189ed18f4c2e7": {
      "model_module": "@jupyter-widgets/controls",
      "model_module_version": "1.5.0",
      "model_name": "ProgressStyleModel",
      "state": {
       "_model_module": "@jupyter-widgets/controls",
       "_model_module_version": "1.5.0",
       "_model_name": "ProgressStyleModel",
       "_view_count": null,
       "_view_module": "@jupyter-widgets/base",
       "_view_module_version": "1.2.0",
       "_view_name": "StyleView",
       "bar_color": null,
       "description_width": ""
      }
     },
     "b0018a15341f4b55b5eef3b5f450dae5": {
      "model_module": "@jupyter-widgets/controls",
      "model_module_version": "1.5.0",
      "model_name": "DescriptionStyleModel",
      "state": {
       "_model_module": "@jupyter-widgets/controls",
       "_model_module_version": "1.5.0",
       "_model_name": "DescriptionStyleModel",
       "_view_count": null,
       "_view_module": "@jupyter-widgets/base",
       "_view_module_version": "1.2.0",
       "_view_name": "StyleView",
       "description_width": ""
      }
     },
     "b4191b4258db40f7a3041299b63d1087": {
      "model_module": "@jupyter-widgets/controls",
      "model_module_version": "1.5.0",
      "model_name": "HTMLModel",
      "state": {
       "_dom_classes": [],
       "_model_module": "@jupyter-widgets/controls",
       "_model_module_version": "1.5.0",
       "_model_name": "HTMLModel",
       "_view_count": null,
       "_view_module": "@jupyter-widgets/controls",
       "_view_module_version": "1.5.0",
       "_view_name": "HTMLView",
       "description": "",
       "description_tooltip": null,
       "layout": "IPY_MODEL_95c9f5e4bc47442fa756c7622ef0af53",
       "placeholder": "​",
       "style": "IPY_MODEL_d68eaeac630e4083b35acf13c6cf1eca",
       "value": " 851k/851k [00:01&lt;00:00, 1.21MB/s]"
      }
     },
     "b509ae7ab09d4a48b472d9d51c265ac2": {
      "model_module": "@jupyter-widgets/controls",
      "model_module_version": "1.5.0",
      "model_name": "DescriptionStyleModel",
      "state": {
       "_model_module": "@jupyter-widgets/controls",
       "_model_module_version": "1.5.0",
       "_model_name": "DescriptionStyleModel",
       "_view_count": null,
       "_view_module": "@jupyter-widgets/base",
       "_view_module_version": "1.2.0",
       "_view_name": "StyleView",
       "description_width": ""
      }
     },
     "bebfca01ec2a4f0b98e5c909affd9996": {
      "model_module": "@jupyter-widgets/controls",
      "model_module_version": "1.5.0",
      "model_name": "FloatProgressModel",
      "state": {
       "_dom_classes": [],
       "_model_module": "@jupyter-widgets/controls",
       "_model_module_version": "1.5.0",
       "_model_name": "FloatProgressModel",
       "_view_count": null,
       "_view_module": "@jupyter-widgets/controls",
       "_view_module_version": "1.5.0",
       "_view_name": "ProgressView",
       "bar_style": "success",
       "description": "",
       "description_tooltip": null,
       "layout": "IPY_MODEL_6481b17d65834016960eec3e571a2bb6",
       "max": 953.0,
       "min": 0.0,
       "orientation": "horizontal",
       "style": "IPY_MODEL_227444902f9d480ba39e6c106572040d",
       "value": 953.0
      }
     },
     "bfb7803e0333442cbc15367c9f5194fd": {
      "model_module": "@jupyter-widgets/controls",
      "model_module_version": "1.5.0",
      "model_name": "ProgressStyleModel",
      "state": {
       "_model_module": "@jupyter-widgets/controls",
       "_model_module_version": "1.5.0",
       "_model_name": "ProgressStyleModel",
       "_view_count": null,
       "_view_module": "@jupyter-widgets/base",
       "_view_module_version": "1.2.0",
       "_view_name": "StyleView",
       "bar_color": null,
       "description_width": ""
      }
     },
     "ca7be70b8766428283c88e0977ab634e": {
      "model_module": "@jupyter-widgets/controls",
      "model_module_version": "1.5.0",
      "model_name": "HTMLModel",
      "state": {
       "_dom_classes": [],
       "_model_module": "@jupyter-widgets/controls",
       "_model_module_version": "1.5.0",
       "_model_name": "HTMLModel",
       "_view_count": null,
       "_view_module": "@jupyter-widgets/controls",
       "_view_module_version": "1.5.0",
       "_view_name": "HTMLView",
       "description": "",
       "description_tooltip": null,
       "layout": "IPY_MODEL_1d196997343640249c2ee6eb727cce0f",
       "placeholder": "​",
       "style": "IPY_MODEL_aaa27d7e9b784a8a9c40d55eba119263",
       "value": " 39.0/39.0 [00:00&lt;00:00, 1.49kB/s]"
      }
     },
     "cbf43b3b7a764d34bbc89397a36fd53d": {
      "model_module": "@jupyter-widgets/controls",
      "model_module_version": "1.5.0",
      "model_name": "DescriptionStyleModel",
      "state": {
       "_model_module": "@jupyter-widgets/controls",
       "_model_module_version": "1.5.0",
       "_model_name": "DescriptionStyleModel",
       "_view_count": null,
       "_view_module": "@jupyter-widgets/base",
       "_view_module_version": "1.2.0",
       "_view_name": "StyleView",
       "description_width": ""
      }
     },
     "cf481b6c95c248a6bccc28749e5ed44f": {
      "model_module": "@jupyter-widgets/controls",
      "model_module_version": "1.5.0",
      "model_name": "HTMLModel",
      "state": {
       "_dom_classes": [],
       "_model_module": "@jupyter-widgets/controls",
       "_model_module_version": "1.5.0",
       "_model_name": "HTMLModel",
       "_view_count": null,
       "_view_module": "@jupyter-widgets/controls",
       "_view_module_version": "1.5.0",
       "_view_name": "HTMLView",
       "description": "",
       "description_tooltip": null,
       "layout": "IPY_MODEL_0e1a6dd49829404899be7861bbe2535c",
       "placeholder": "​",
       "style": "IPY_MODEL_ae884f6d1dae4357bbab6170acea20a4",
       "value": "Downloading: 100%"
      }
     },
     "d68eaeac630e4083b35acf13c6cf1eca": {
      "model_module": "@jupyter-widgets/controls",
      "model_module_version": "1.5.0",
      "model_name": "DescriptionStyleModel",
      "state": {
       "_model_module": "@jupyter-widgets/controls",
       "_model_module_version": "1.5.0",
       "_model_name": "DescriptionStyleModel",
       "_view_count": null,
       "_view_module": "@jupyter-widgets/base",
       "_view_module_version": "1.2.0",
       "_view_name": "StyleView",
       "description_width": ""
      }
     },
     "dd0bf1737f2c4d718eef8974349a111e": {
      "model_module": "@jupyter-widgets/base",
      "model_module_version": "1.2.0",
      "model_name": "LayoutModel",
      "state": {
       "_model_module": "@jupyter-widgets/base",
       "_model_module_version": "1.2.0",
       "_model_name": "LayoutModel",
       "_view_count": null,
       "_view_module": "@jupyter-widgets/base",
       "_view_module_version": "1.2.0",
       "_view_name": "LayoutView",
       "align_content": null,
       "align_items": null,
       "align_self": null,
       "border": null,
       "bottom": null,
       "display": null,
       "flex": null,
       "flex_flow": null,
       "grid_area": null,
       "grid_auto_columns": null,
       "grid_auto_flow": null,
       "grid_auto_rows": null,
       "grid_column": null,
       "grid_gap": null,
       "grid_row": null,
       "grid_template_areas": null,
       "grid_template_columns": null,
       "grid_template_rows": null,
       "height": null,
       "justify_content": null,
       "justify_items": null,
       "left": null,
       "margin": null,
       "max_height": null,
       "max_width": null,
       "min_height": null,
       "min_width": null,
       "object_fit": null,
       "object_position": null,
       "order": null,
       "overflow": null,
       "overflow_x": null,
       "overflow_y": null,
       "padding": null,
       "right": null,
       "top": null,
       "visibility": null,
       "width": null
      }
     },
     "ed09ad9738714a00a9bf787a415f80da": {
      "model_module": "@jupyter-widgets/controls",
      "model_module_version": "1.5.0",
      "model_name": "HBoxModel",
      "state": {
       "_dom_classes": [],
       "_model_module": "@jupyter-widgets/controls",
       "_model_module_version": "1.5.0",
       "_model_name": "HBoxModel",
       "_view_count": null,
       "_view_module": "@jupyter-widgets/controls",
       "_view_module_version": "1.5.0",
       "_view_name": "HBoxView",
       "box_style": "",
       "children": [
        "IPY_MODEL_1a3e3c0ca436460ca1f11c33ec60db64",
        "IPY_MODEL_014464438eb14314b2e43b0df3b54b1e",
        "IPY_MODEL_2da99b6e6cc64334ab94d25689b3e2b9"
       ],
       "layout": "IPY_MODEL_79621b1e486f41c6835e5d266b12a1f8"
      }
     },
     "f07fc54393d24d2bbcb418b0a0ecad00": {
      "model_module": "@jupyter-widgets/controls",
      "model_module_version": "1.5.0",
      "model_name": "HBoxModel",
      "state": {
       "_dom_classes": [],
       "_model_module": "@jupyter-widgets/controls",
       "_model_module_version": "1.5.0",
       "_model_name": "HBoxModel",
       "_view_count": null,
       "_view_module": "@jupyter-widgets/controls",
       "_view_module_version": "1.5.0",
       "_view_name": "HBoxView",
       "box_style": "",
       "children": [
        "IPY_MODEL_55f71d38d1f8488e82970aba5ca34b67",
        "IPY_MODEL_bebfca01ec2a4f0b98e5c909affd9996",
        "IPY_MODEL_541c18658f6744918c9a3d7f552a7990"
       ],
       "layout": "IPY_MODEL_17348587f3694212a2482f04af43aaca"
      }
     }
    },
    "version_major": 2,
    "version_minor": 0
   }
  }
 },
 "nbformat": 4,
 "nbformat_minor": 5
}
